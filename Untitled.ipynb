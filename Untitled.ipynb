{
 "cells": [
  {
   "cell_type": "code",
   "execution_count": 4,
   "id": "3077f134",
   "metadata": {},
   "outputs": [],
   "source": [
    "import pandas as pd\n",
    "import numpy as np\n",
    "dataset = pd.read_csv('/Users/ashrafshaik/Documents/IN.csv')"
   ]
  },
  {
   "cell_type": "code",
   "execution_count": 5,
   "id": "29e51d93",
   "metadata": {},
   "outputs": [
    {
     "name": "stdout",
     "output_type": "stream",
     "text": [
      "   Unnamed: 0       id   event device channel  code  size  \\\n",
      "0           0  1142043  173652     IN     AF3     0   256   \n",
      "1           1  1142044  173652     IN     AF4     0   256   \n",
      "2           2  1142045  173652     IN      T7     0   256   \n",
      "3           3  1142046  173652     IN      T8     0   256   \n",
      "4           4  1142047  173652     IN      PZ     0   256   \n",
      "\n",
      "                                                data  \n",
      "0  4259.487179,4237.948717,4247.179487,4242.05128...  \n",
      "1  4103.076923,4100.512820,4102.564102,4087.69230...  \n",
      "2  4245.128205,4218.461538,4242.051282,4245.12820...  \n",
      "3  4208.717948,4188.717948,4204.102564,4198.46153...  \n",
      "4  4189.230769,4203.589743,4188.717948,4186.66666...  \n"
     ]
    }
   ],
   "source": [
    "print(dataset.head())"
   ]
  },
  {
   "cell_type": "code",
   "execution_count": 6,
   "id": "016d1ab6",
   "metadata": {},
   "outputs": [],
   "source": [
    "dataset = dataset.drop(columns = ['Unnamed: 0'])"
   ]
  },
  {
   "cell_type": "code",
   "execution_count": 7,
   "id": "a01fa2b9",
   "metadata": {},
   "outputs": [
    {
     "name": "stdout",
     "output_type": "stream",
     "text": [
      "        id   event device channel  code  size  \\\n",
      "0  1142043  173652     IN     AF3     0   256   \n",
      "1  1142044  173652     IN     AF4     0   256   \n",
      "2  1142045  173652     IN      T7     0   256   \n",
      "3  1142046  173652     IN      T8     0   256   \n",
      "4  1142047  173652     IN      PZ     0   256   \n",
      "\n",
      "                                                data  \n",
      "0  4259.487179,4237.948717,4247.179487,4242.05128...  \n",
      "1  4103.076923,4100.512820,4102.564102,4087.69230...  \n",
      "2  4245.128205,4218.461538,4242.051282,4245.12820...  \n",
      "3  4208.717948,4188.717948,4204.102564,4198.46153...  \n",
      "4  4189.230769,4203.589743,4188.717948,4186.66666...  \n"
     ]
    }
   ],
   "source": [
    "print(dataset.head())"
   ]
  },
  {
   "cell_type": "code",
   "execution_count": 8,
   "id": "47fe4788",
   "metadata": {},
   "outputs": [
    {
     "name": "stdout",
     "output_type": "stream",
     "text": [
      "id          int64\n",
      "event       int64\n",
      "device     object\n",
      "channel    object\n",
      "code        int64\n",
      "size        int64\n",
      "data       object\n",
      "dtype: object\n"
     ]
    }
   ],
   "source": [
    "print(dataset.dtypes)"
   ]
  },
  {
   "cell_type": "code",
   "execution_count": 9,
   "id": "afbbccc8",
   "metadata": {},
   "outputs": [],
   "source": [
    "dataset = dataset.astype({'channel': 'string'})"
   ]
  },
  {
   "cell_type": "code",
   "execution_count": 10,
   "id": "a4a1cc89",
   "metadata": {},
   "outputs": [
    {
     "name": "stdout",
     "output_type": "stream",
     "text": [
      "id                  int64\n",
      "event               int64\n",
      "device             object\n",
      "channel    string[python]\n",
      "code                int64\n",
      "size                int64\n",
      "data               object\n",
      "dtype: object\n"
     ]
    }
   ],
   "source": [
    "print(dataset.dtypes)"
   ]
  },
  {
   "cell_type": "code",
   "execution_count": 12,
   "id": "8ddcfd0d",
   "metadata": {},
   "outputs": [],
   "source": [
    "dataset_256 = dataset.iloc[np.array(dataset['size'] == 256)]"
   ]
  },
  {
   "cell_type": "code",
   "execution_count": 17,
   "id": "0201f5d5",
   "metadata": {},
   "outputs": [
    {
     "name": "stdout",
     "output_type": "stream",
     "text": [
      "(23710, 7)\n"
     ]
    }
   ],
   "source": [
    "print(dataset_256.shape)"
   ]
  },
  {
   "cell_type": "code",
   "execution_count": 18,
   "id": "725f8767",
   "metadata": {},
   "outputs": [
    {
     "name": "stdout",
     "output_type": "stream",
     "text": [
      "(65250, 7)\n"
     ]
    }
   ],
   "source": [
    "print(dataset.shape)"
   ]
  },
  {
   "cell_type": "code",
   "execution_count": 30,
   "id": "3d83ad33",
   "metadata": {},
   "outputs": [],
   "source": [
    "AF3 = []\n",
    "AF4 = []\n",
    "T7 = []\n",
    "T8 = []\n",
    "PZ = []\n",
    "for row in np.array(dataset_256):\n",
    "    row[-1] = np.fromstring(row[-1], dtype = float, sep = ',')[:70]\n",
    "    if row[3] == 'AF3':\n",
    "        AF3.append(row[-1])\n",
    "    elif row[3] == 'AF4':\n",
    "        AF4.append(row[-1])\n",
    "    elif row[3] == 'T7':\n",
    "        T7.append(row[-1])\n",
    "    elif row[3] == 'T8':\n",
    "        T8.append(row[-1])\n",
    "    else:\n",
    "        PZ.append(row[-1])"
   ]
  },
  {
   "cell_type": "code",
   "execution_count": 38,
   "id": "b6af5215",
   "metadata": {},
   "outputs": [],
   "source": [
    "AF3 = np.array(AF3)\n",
    "AF4 = np.array(AF4)\n",
    "T7 = np.array(T7)\n",
    "T8 = np.array(T8)\n",
    "PZ = np.array(PZ)"
   ]
  },
  {
   "cell_type": "code",
   "execution_count": 37,
   "id": "6551272b",
   "metadata": {},
   "outputs": [
    {
     "data": {
      "text/plain": [
       "size\n",
       "252    27965\n",
       "256    23710\n",
       "253     1965\n",
       "257     1765\n",
       "260     1285\n",
       "       ...  \n",
       "69         5\n",
       "225        5\n",
       "185        5\n",
       "93         5\n",
       "40         5\n",
       "Name: count, Length: 104, dtype: int64"
      ]
     },
     "execution_count": 37,
     "metadata": {},
     "output_type": "execute_result"
    }
   ],
   "source": [
    "dataset['size'].value_counts()"
   ]
  },
  {
   "cell_type": "code",
   "execution_count": 39,
   "id": "79dc9f03",
   "metadata": {},
   "outputs": [
    {
     "name": "stdout",
     "output_type": "stream",
     "text": [
      "(4742, 256)\n"
     ]
    }
   ],
   "source": [
    "print(AF3.shape)"
   ]
  },
  {
   "cell_type": "code",
   "execution_count": 46,
   "id": "8076b302",
   "metadata": {},
   "outputs": [
    {
     "name": "stdout",
     "output_type": "stream",
     "text": [
      "6147.483647\n"
     ]
    }
   ],
   "source": [
    "print(np.amax(np.vstack((AF3, AF4, T7, T8, PZ)).reshape(6069760, 1)))"
   ]
  },
  {
   "cell_type": "code",
   "execution_count": null,
   "id": "840f9217",
   "metadata": {},
   "outputs": [],
   "source": []
  }
 ],
 "metadata": {
  "kernelspec": {
   "display_name": "Python 3 (ipykernel)",
   "language": "python",
   "name": "python3"
  },
  "language_info": {
   "codemirror_mode": {
    "name": "ipython",
    "version": 3
   },
   "file_extension": ".py",
   "mimetype": "text/x-python",
   "name": "python",
   "nbconvert_exporter": "python",
   "pygments_lexer": "ipython3",
   "version": "3.11.5"
  }
 },
 "nbformat": 4,
 "nbformat_minor": 5
}
