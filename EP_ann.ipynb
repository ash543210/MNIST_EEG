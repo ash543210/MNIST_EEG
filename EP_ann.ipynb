{
 "cells": [
  {
   "cell_type": "code",
   "execution_count": 1,
   "id": "916b4d4f",
   "metadata": {},
   "outputs": [],
   "source": [
    "import pandas as pd \n",
    "dataset = pd.read_csv(\"/Users/ashrafshaik/Documents/EP1.01.csv\") "
   ]
  },
  {
   "cell_type": "code",
   "execution_count": 2,
   "id": "077190e6",
   "metadata": {},
   "outputs": [
    {
     "name": "stdout",
     "output_type": "stream",
     "text": [
      "   Unnamed: 0     id    event device channel  code  size  \\\n",
      "0           0  67635  67635.1     EP     AF3     6   260   \n",
      "1           1  67636  67635.0     EP      F7     6   260   \n",
      "2           2  67637  67635.0     EP      F3     6   260   \n",
      "3           3  67638  67635.0     EP     FC5     6   260   \n",
      "4           4  67639  67635.0     EP      T7     6   260   \n",
      "\n",
      "                                                data  \n",
      "0  4395.384615,4382.564102,4377.435897,4387.17948...  \n",
      "1  4489.230769,4475.384615,4474.358974,4486.66666...  \n",
      "2  4538.461538,4528.717948,4524.615384,4526.15384...  \n",
      "3  4207.692307,4205.641025,4200.512820,4194.35897...  \n",
      "4  4497.948717,4498.461538,4494.871794,4497.94871...  \n"
     ]
    }
   ],
   "source": [
    "print(dataset.head())"
   ]
  },
  {
   "cell_type": "code",
   "execution_count": 3,
   "id": "b231e060",
   "metadata": {},
   "outputs": [],
   "source": [
    "dataset.iloc[0, 1] = 67635"
   ]
  },
  {
   "cell_type": "code",
   "execution_count": 4,
   "id": "7eaa372b",
   "metadata": {},
   "outputs": [
    {
     "name": "stdout",
     "output_type": "stream",
     "text": [
      "Index(['Unnamed: 0', 'id', 'event', 'device', 'channel', 'code', 'size',\n",
      "       'data'],\n",
      "      dtype='object')\n"
     ]
    }
   ],
   "source": [
    "print(dataset.columns)"
   ]
  },
  {
   "cell_type": "code",
   "execution_count": 5,
   "id": "1ff8a404",
   "metadata": {},
   "outputs": [],
   "source": [
    "dataset = dataset.drop(columns = ['Unnamed: 0'], axis = 1)"
   ]
  },
  {
   "cell_type": "code",
   "execution_count": 6,
   "id": "4e4b90cb",
   "metadata": {},
   "outputs": [
    {
     "name": "stdout",
     "output_type": "stream",
     "text": [
      "      id    event device channel  code  size  \\\n",
      "0  67635  67635.1     EP     AF3     6   260   \n",
      "1  67636  67635.0     EP      F7     6   260   \n",
      "2  67637  67635.0     EP      F3     6   260   \n",
      "3  67638  67635.0     EP     FC5     6   260   \n",
      "4  67639  67635.0     EP      T7     6   260   \n",
      "\n",
      "                                                data  \n",
      "0  4395.384615,4382.564102,4377.435897,4387.17948...  \n",
      "1  4489.230769,4475.384615,4474.358974,4486.66666...  \n",
      "2  4538.461538,4528.717948,4524.615384,4526.15384...  \n",
      "3  4207.692307,4205.641025,4200.512820,4194.35897...  \n",
      "4  4497.948717,4498.461538,4494.871794,4497.94871...  \n"
     ]
    }
   ],
   "source": [
    "print(dataset.head())"
   ]
  },
  {
   "cell_type": "code",
   "execution_count": 7,
   "id": "a9a47634",
   "metadata": {},
   "outputs": [
    {
     "name": "stdout",
     "output_type": "stream",
     "text": [
      "size\n",
      "260    606214\n",
      "256    171388\n",
      "264     61586\n",
      "261     44072\n",
      "257     12362\n",
      "252      4956\n",
      "265      3640\n",
      "268      2884\n",
      "253       294\n",
      "248       196\n",
      "272       196\n",
      "269        98\n",
      "249        70\n",
      "276        56\n",
      "244        42\n",
      "292        28\n",
      "204        14\n",
      "320        14\n",
      "273        14\n",
      "196        14\n",
      "228        14\n",
      "224        14\n",
      "280        14\n",
      "212        14\n",
      "232        14\n",
      "240        14\n",
      "284        14\n",
      "136        14\n",
      "Name: count, dtype: int64\n"
     ]
    }
   ],
   "source": [
    "print(dataset['size'].value_counts())"
   ]
  },
  {
   "cell_type": "code",
   "execution_count": 8,
   "id": "b577911b",
   "metadata": {},
   "outputs": [
    {
     "name": "stdout",
     "output_type": "stream",
     "text": [
      "id           int64\n",
      "event      float64\n",
      "device      object\n",
      "channel     object\n",
      "code         int64\n",
      "size         int64\n",
      "data        object\n",
      "dtype: object\n"
     ]
    }
   ],
   "source": [
    "print(dataset.dtypes)"
   ]
  },
  {
   "cell_type": "code",
   "execution_count": 9,
   "id": "b3426dd0",
   "metadata": {},
   "outputs": [
    {
     "name": "stdout",
     "output_type": "stream",
     "text": [
      "4395.384615,4382.564102,4377.435897,4387.179487,4395.897435,4398.461538,4396.923076,4391.794871,4391.282051,4395.897435,4398.974358,4396.410256,4392.820512,4392.820512,4395.384615,4398.974358,4394.358974,4381.538461,4376.410256,4383.589743,4387.179487,4388.717948,4397.948717,4401.538461,4397.948717,4398.974358,4398.974358,4395.897435,4396.923076,4398.461538,4397.948717,4396.410256,4391.794871,4389.743589,4389.743589,4385.641025,4387.692307,4393.846153,4389.743589,4381.025641,4377.948717,4378.461538,4377.435897,4385.128205,4393.333333,4389.230769,4382.564102,4378.974358,4375.384615,4378.461538,4386.153846,4389.230769,4393.846153,4390.256410,4374.871794,4367.692307,4374.871794,4384.615384,4390.769230,4394.358974,4390.769230,4382.051282,4381.025641,4385.641025,4376.923076,4365.641025,4373.333333,4377.948717,4365.128205,4363.589743,4375.897435,4374.358974,4368.205128,4373.333333,4378.461538,4375.897435,4374.358974,4376.410256,4377.435897,4376.410256,4370.256410,4370.769230,4380.000000,4381.538461,4378.974358,4388.717948,4390.769230,4376.410256,4372.820512,4378.461538,4376.923076,4377.435897,4378.461538,4375.384615,4385.641025,4396.923076,4387.692307,4385.641025,4395.897435,4390.769230,4379.487179,4381.025641,4379.487179,4380.000000,4386.666666,4388.717948,4386.666666,4384.615384,4383.589743,4383.076923,4386.666666,4388.205128,4381.538461,4373.333333,4375.384615,4388.717948,4392.820512,4386.153846,4385.128205,4388.205128,4382.051282,4382.051282,4393.846153,4395.897435,4385.641025,4378.974358,4373.333333,4370.769230,4376.923076,4382.564102,4384.615384,4386.666666,4384.102564,4380.512820,4375.897435,4371.282051,4376.410256,4380.000000,4369.230769,4362.051282,4368.717948,4373.333333,4369.230769,4370.256410,4373.846153,4377.948717,4380.000000,4373.333333,4367.179487,4369.743589,4373.333333,4376.410256,4379.487179,4373.846153,4364.102564,4368.717948,4374.358974,4368.205128,4363.076923,4368.205128,4375.897435,4378.974358,4381.538461,4381.025641,4376.923076,4374.358974,4372.307692,4373.333333,4376.410256,4376.923076,4378.461538,4387.179487,4392.307692,4392.820512,4391.282051,4388.205128,4383.589743,4378.974358,4380.512820,4381.025641,4372.820512,4370.256410,4375.897435,4380.000000,4382.051282,4382.051282,4381.025641,4386.153846,4385.641025,4375.897435,4370.769230,4370.256410,4373.846153,4380.512820,4375.897435,4371.794871,4380.000000,4380.512820,4370.769230,4371.794871,4382.051282,4387.179487,4387.179487,4381.538461,4373.333333,4375.384615,4383.589743,4384.615384,4381.538461,4380.512820,4378.461538,4377.948717,4382.564102,4382.564102,4374.871794,4373.333333,4378.974358,4384.102564,4385.128205,4384.102564,4386.666666,4391.794871,4393.333333,4386.153846,4384.615384,4393.846153,4398.461538,4392.820512,4388.717948,4392.820512,4393.333333,4389.743589,4387.692307,4383.076923,4380.512820,4382.051282,4384.102564,4386.666666,4392.820512,4393.333333,4388.717948,4384.615384,4381.538461,4383.076923,4386.666666,4387.179487,4389.743589,4391.282051,4385.641025,4383.076923,4385.128205,4384.102564,4385.128205,4390.256410,4393.333333,4393.333333,4390.769230,4384.615384,4385.641025,4390.769230\n"
     ]
    }
   ],
   "source": [
    "import numpy as np\n",
    "print(str(dataset.iloc[0, 6]))"
   ]
  },
  {
   "cell_type": "code",
   "execution_count": 10,
   "id": "0b130ece",
   "metadata": {},
   "outputs": [],
   "source": [
    "dataset[['device', 'channel', 'data']] = dataset[['device', 'channel', 'data']].astype('string')"
   ]
  },
  {
   "cell_type": "code",
   "execution_count": 11,
   "id": "c494d516",
   "metadata": {},
   "outputs": [
    {
     "name": "stdout",
     "output_type": "stream",
     "text": [
      "int64\n"
     ]
    }
   ],
   "source": [
    "print(dataset['size'].dtype)"
   ]
  },
  {
   "cell_type": "code",
   "execution_count": 82,
   "id": "e6cd13e7",
   "metadata": {},
   "outputs": [
    {
     "name": "stdout",
     "output_type": "stream",
     "text": [
      "[6 7 9 0 8 5 3 4 2 1]\n"
     ]
    }
   ],
   "source": [
    "print(dataset['code'].unique())"
   ]
  },
  {
   "cell_type": "code",
   "execution_count": 12,
   "id": "84a2b146",
   "metadata": {},
   "outputs": [],
   "source": [
    "dataset_256 = dataset.iloc[np.array(dataset['size'] == 256)]"
   ]
  },
  {
   "cell_type": "code",
   "execution_count": 13,
   "id": "4256f93c",
   "metadata": {},
   "outputs": [
    {
     "name": "stdout",
     "output_type": "stream",
     "text": [
      "       id    event device channel  code  size  \\\n",
      "28  67663  67637.0     EP     AF3     9   256   \n",
      "29  67664  67637.0     EP      F7     9   256   \n",
      "30  67665  67637.0     EP      F3     9   256   \n",
      "31  67666  67637.0     EP     FC5     9   256   \n",
      "32  67667  67637.0     EP      T7     9   256   \n",
      "\n",
      "                                                 data  \n",
      "28  4380.512820,4389.743589,4395.897435,4395.38461...  \n",
      "29  4468.717948,4480.512820,4493.333333,4490.25641...  \n",
      "30  4534.871794,4545.641025,4552.820512,4551.28205...  \n",
      "31  4246.666666,4256.410256,4262.564102,4250.76923...  \n",
      "32  4488.717948,4491.282051,4492.820512,4491.79487...  \n"
     ]
    }
   ],
   "source": [
    "print(dataset_256.head())"
   ]
  },
  {
   "cell_type": "code",
   "execution_count": 14,
   "id": "8c845614",
   "metadata": {},
   "outputs": [
    {
     "name": "stdout",
     "output_type": "stream",
     "text": [
      "(171388, 7)\n"
     ]
    }
   ],
   "source": [
    "print(dataset_256.shape)"
   ]
  },
  {
   "cell_type": "code",
   "execution_count": 15,
   "id": "a4026099",
   "metadata": {},
   "outputs": [],
   "source": [
    "visual_region = np.array(dataset_256['channel'].isin([\"P8\", \"O1\", \"O2\"]))\n",
    "dataset_256 = dataset_256.iloc[visual_region]"
   ]
  },
  {
   "cell_type": "code",
   "execution_count": 16,
   "id": "9adec43d",
   "metadata": {},
   "outputs": [
    {
     "name": "stdout",
     "output_type": "stream",
     "text": [
      "34     O1\n",
      "35     O2\n",
      "36     P8\n",
      "118    O1\n",
      "119    O2\n",
      "120    P8\n",
      "146    O1\n",
      "147    O2\n",
      "148    P8\n",
      "216    O1\n",
      "Name: channel, dtype: string\n"
     ]
    }
   ],
   "source": [
    "print(dataset_256.iloc[:10 , 3])"
   ]
  },
  {
   "cell_type": "code",
   "execution_count": 17,
   "id": "c3f43835",
   "metadata": {},
   "outputs": [
    {
     "name": "stdout",
     "output_type": "stream",
     "text": [
      "(36726, 7)\n"
     ]
    }
   ],
   "source": [
    "print(dataset_256.shape)"
   ]
  },
  {
   "cell_type": "code",
   "execution_count": 18,
   "id": "bfb24e81",
   "metadata": {},
   "outputs": [
    {
     "name": "stdout",
     "output_type": "stream",
     "text": [
      "    channel  code  size\n",
      "34       O1     9   256\n",
      "35       O2     9   256\n",
      "36       P8     9   256\n",
      "118      O1     6   256\n",
      "119      O2     6   256\n",
      "120      P8     6   256\n",
      "146      O1     6   256\n",
      "147      O2     6   256\n",
      "148      P8     6   256\n",
      "216      O1     8   256\n",
      "217      O2     8   256\n",
      "218      P8     8   256\n",
      "244      O1     0   256\n",
      "245      O2     0   256\n",
      "246      P8     0   256\n",
      "314      O1     1   256\n"
     ]
    }
   ],
   "source": [
    "print(dataset_256.iloc[:16, 3:6])"
   ]
  },
  {
   "cell_type": "code",
   "execution_count": 19,
   "id": "e4726334",
   "metadata": {},
   "outputs": [
    {
     "name": "stdout",
     "output_type": "stream",
     "text": [
      "        id    event device channel  code  size  \\\n",
      "34   67669  67637.0     EP      O1     9   256   \n",
      "35   67670  67637.0     EP      O2     9   256   \n",
      "36   67671  67637.0     EP      P8     9   256   \n",
      "118  67753  67643.0     EP      O1     6   256   \n",
      "119  67754  67643.0     EP      O2     6   256   \n",
      "\n",
      "                                                  data  \n",
      "34   4438.974358,4440.512820,4445.128205,4445.12820...  \n",
      "35   4219.487179,4224.102564,4230.256410,4231.28205...  \n",
      "36   4228.205128,4229.743589,4245.128205,4248.71794...  \n",
      "118  4445.641025,4458.461538,4460.512820,4449.74358...  \n",
      "119  4220.000000,4226.153846,4234.871794,4230.25641...  \n"
     ]
    }
   ],
   "source": [
    "print(dataset_256.head())"
   ]
  },
  {
   "cell_type": "code",
   "execution_count": 20,
   "id": "f9f209c9",
   "metadata": {},
   "outputs": [],
   "source": [
    "channels = np.array(dataset_256['channel'].unique())"
   ]
  },
  {
   "cell_type": "code",
   "execution_count": 21,
   "id": "7608b579",
   "metadata": {},
   "outputs": [
    {
     "name": "stdout",
     "output_type": "stream",
     "text": [
      "['O1' 'O2' 'P8']\n"
     ]
    }
   ],
   "source": [
    "print(channels)"
   ]
  },
  {
   "cell_type": "code",
   "execution_count": 31,
   "id": "22440b12",
   "metadata": {},
   "outputs": [],
   "source": [
    "events = dataset_256['event'].unique().tolist()"
   ]
  },
  {
   "cell_type": "code",
   "execution_count": 32,
   "id": "43707e70",
   "metadata": {},
   "outputs": [
    {
     "name": "stdout",
     "output_type": "stream",
     "text": [
      "12242\n"
     ]
    }
   ],
   "source": [
    "print(len(events))"
   ]
  },
  {
   "cell_type": "code",
   "execution_count": 33,
   "id": "11f66509",
   "metadata": {},
   "outputs": [],
   "source": [
    "eventgroups = []\n",
    "for event in events:\n",
    "    eventgroups.append(dataset_256[dataset_256['event'] == event])"
   ]
  },
  {
   "cell_type": "code",
   "execution_count": 34,
   "id": "732687b7",
   "metadata": {},
   "outputs": [
    {
     "name": "stdout",
     "output_type": "stream",
     "text": [
      "12242\n"
     ]
    }
   ],
   "source": [
    "print(len(eventgroups))"
   ]
  },
  {
   "cell_type": "code",
   "execution_count": 35,
   "id": "f3e8c3bf",
   "metadata": {},
   "outputs": [],
   "source": [
    "eeg_data = []\n",
    "for event in eventgroups:\n",
    "    total_channel_data = []\n",
    "    data = np.array(event['data'])\n",
    "    for channel_data in data:\n",
    "        total_channel_data.append(np.fromstring(channel_data, dtype=float, sep = ','))\n",
    "    eeg_data.append(total_channel_data)"
   ]
  },
  {
   "cell_type": "code",
   "execution_count": 38,
   "id": "70b32cb5",
   "metadata": {},
   "outputs": [],
   "source": [
    "eeg_data = np.array(eeg_data)"
   ]
  },
  {
   "cell_type": "code",
   "execution_count": 39,
   "id": "b1cab22f",
   "metadata": {},
   "outputs": [
    {
     "name": "stdout",
     "output_type": "stream",
     "text": [
      "(12242, 3, 256)\n"
     ]
    }
   ],
   "source": [
    "print(eeg_data.shape)"
   ]
  },
  {
   "cell_type": "code",
   "execution_count": 88,
   "id": "79bf04f0",
   "metadata": {},
   "outputs": [],
   "source": [
    "labels = []\n",
    "for event in eventgroups:\n",
    "    event_label = []\n",
    "    event_digit = np.array(event['code'])\n",
    "    labels.append(event_digit)"
   ]
  },
  {
   "cell_type": "code",
   "execution_count": 89,
   "id": "8a6d5a5f",
   "metadata": {},
   "outputs": [
    {
     "name": "stdout",
     "output_type": "stream",
     "text": [
      "12242\n"
     ]
    }
   ],
   "source": [
    "print(len(labels))"
   ]
  },
  {
   "cell_type": "code",
   "execution_count": 90,
   "id": "d8fe9d1d",
   "metadata": {},
   "outputs": [],
   "source": [
    "labels = np.array(labels)"
   ]
  },
  {
   "cell_type": "code",
   "execution_count": 107,
   "id": "7c20c831",
   "metadata": {},
   "outputs": [
    {
     "name": "stdout",
     "output_type": "stream",
     "text": [
      "[[9 9 9]\n",
      " [6 6 6]\n",
      " [6 6 6]\n",
      " ...\n",
      " [0 0 0]\n",
      " [4 4 4]\n",
      " [4 4 4]]\n"
     ]
    }
   ],
   "source": [
    "print(labels)"
   ]
  },
  {
   "cell_type": "code",
   "execution_count": 110,
   "id": "c47dd435",
   "metadata": {},
   "outputs": [
    {
     "name": "stdout",
     "output_type": "stream",
     "text": [
      "[4 4 4]\n"
     ]
    }
   ],
   "source": [
    "print(labels[labels.shape[0] - 1])"
   ]
  },
  {
   "cell_type": "code",
   "execution_count": 117,
   "id": "abc042f1",
   "metadata": {},
   "outputs": [
    {
     "name": "stdout",
     "output_type": "stream",
     "text": [
      "[[0. 0. 0. 0. 0. 0. 0. 0. 0. 1.]\n",
      " [0. 0. 0. 0. 0. 0. 0. 0. 0. 1.]\n",
      " [0. 0. 0. 0. 0. 0. 0. 0. 0. 1.]]\n"
     ]
    }
   ],
   "source": [
    "print(encoder.transform(labels[0].reshape(3, 1)))"
   ]
  },
  {
   "cell_type": "code",
   "execution_count": 118,
   "id": "e92ce88e",
   "metadata": {},
   "outputs": [
    {
     "name": "stderr",
     "output_type": "stream",
     "text": [
      "/Users/ashrafshaik/anaconda3/lib/python3.11/site-packages/sklearn/preprocessing/_encoders.py:972: FutureWarning: `sparse` was renamed to `sparse_output` in version 1.2 and will be removed in 1.4. `sparse_output` is ignored unless you leave `sparse` to its default value.\n",
      "  warnings.warn(\n"
     ]
    }
   ],
   "source": [
    "from numpy import asarray\n",
    "from sklearn.preprocessing import OneHotEncoder\n",
    "encoder = OneHotEncoder(sparse=False)\n",
    "labels_encoded = []\n",
    "encoder.fit(labels[:, i].reshape(12242, 1))\n",
    "for i in range(labels.shape[0]):\n",
    "    labels_encoded.append(encoder.transform(labels[i].reshape(3, 1)))\n",
    "    \n",
    "    \n",
    "# labels = encoder.fit_transform(labels_np)\n",
    "# print(labels[:5])"
   ]
  },
  {
   "cell_type": "code",
   "execution_count": 119,
   "id": "35a00ed0",
   "metadata": {},
   "outputs": [],
   "source": [
    "labels_encoded = np.array(labels_encoded)"
   ]
  },
  {
   "cell_type": "code",
   "execution_count": 120,
   "id": "aaada60a",
   "metadata": {},
   "outputs": [
    {
     "name": "stdout",
     "output_type": "stream",
     "text": [
      "(12242, 3, 10)\n"
     ]
    }
   ],
   "source": [
    "print(labels_encoded.shape)"
   ]
  },
  {
   "cell_type": "code",
   "execution_count": 127,
   "id": "f8a72cfd",
   "metadata": {},
   "outputs": [
    {
     "name": "stdout",
     "output_type": "stream",
     "text": [
      "[0. 0. 0. 0. 0. 0. 0. 0. 0. 1.]\n"
     ]
    }
   ],
   "source": [
    "print(labels_encoded[0][2])"
   ]
  },
  {
   "cell_type": "code",
   "execution_count": 133,
   "id": "f1868e18",
   "metadata": {},
   "outputs": [],
   "source": [
    "from sklearn.model_selection import train_test_split\n",
    "x_train, x_test, y_train, y_test = train_test_split(eeg_data, labels_encoded, test_size = 0.2, random_state = 0)"
   ]
  },
  {
   "cell_type": "code",
   "execution_count": 134,
   "id": "bbbed537",
   "metadata": {},
   "outputs": [
    {
     "name": "stdout",
     "output_type": "stream",
     "text": [
      "(9793, 3, 256)\n"
     ]
    }
   ],
   "source": [
    "print(x_train.shape)"
   ]
  },
  {
   "cell_type": "code",
   "execution_count": 135,
   "id": "e58c1ad0",
   "metadata": {},
   "outputs": [
    {
     "name": "stdout",
     "output_type": "stream",
     "text": [
      "[[4437.948717 4432.307692 4434.358974 ... 4441.538461 4442.564102\n",
      "  4440.51282 ]\n",
      " [4443.076923 4442.051282 4444.102564 ... 4449.743589 4447.179487\n",
      "  4442.051282]\n",
      " [4447.692307 4444.615384 4447.179487 ... 4440.       4448.717948\n",
      "  4460.51282 ]\n",
      " ...\n",
      " [4455.897435 4461.538461 4456.923076 ... 4452.820512 4457.948717\n",
      "  4447.692307]\n",
      " [4443.076923 4442.564102 4450.25641  ... 4445.128205 4441.025641\n",
      "  4443.076923]\n",
      " [4426.153846 4434.358974 4446.153846 ... 4437.948717 4442.051282\n",
      "  4447.179487]]\n"
     ]
    }
   ],
   "source": [
    "print(x_train[:, 0])"
   ]
  },
  {
   "cell_type": "code",
   "execution_count": 136,
   "id": "9ef73afd",
   "metadata": {},
   "outputs": [],
   "source": [
    "from sklearn.preprocessing import StandardScaler\n",
    "sc = StandardScaler()\n",
    "for i in range(3):\n",
    "    x_train[:, i] = sc.fit_transform(x_train[:, i])\n",
    "    x_test[:, i] = sc.transform(x_test[:, i])\n"
   ]
  },
  {
   "cell_type": "code",
   "execution_count": 137,
   "id": "3d234206",
   "metadata": {},
   "outputs": [
    {
     "name": "stdout",
     "output_type": "stream",
     "text": [
      "(9793, 3, 10)\n"
     ]
    }
   ],
   "source": [
    "print(y_train.shape)"
   ]
  },
  {
   "cell_type": "code",
   "execution_count": 138,
   "id": "76ad1a47",
   "metadata": {},
   "outputs": [
    {
     "name": "stdout",
     "output_type": "stream",
     "text": [
      "(9793, 3, 256)\n"
     ]
    }
   ],
   "source": [
    "print(x_train.shape)"
   ]
  },
  {
   "cell_type": "code",
   "execution_count": 139,
   "id": "f7ebd781",
   "metadata": {},
   "outputs": [
    {
     "name": "stdout",
     "output_type": "stream",
     "text": [
      "(2449, 3, 10)\n"
     ]
    }
   ],
   "source": [
    "print(y_test.shape)"
   ]
  },
  {
   "cell_type": "code",
   "execution_count": 140,
   "id": "915016aa",
   "metadata": {},
   "outputs": [
    {
     "name": "stdout",
     "output_type": "stream",
     "text": [
      "(2449, 3, 256)\n"
     ]
    }
   ],
   "source": [
    "print(x_test.shape)"
   ]
  },
  {
   "cell_type": "code",
   "execution_count": 141,
   "id": "2302ba39",
   "metadata": {
    "scrolled": true
   },
   "outputs": [
    {
     "name": "stdout",
     "output_type": "stream",
     "text": [
      "Epoch 1/500\n",
      "307/307 [==============================] - 0s 692us/step - loss: 2.3451 - accuracy: 0.0997\n",
      "Epoch 2/500\n",
      "307/307 [==============================] - 0s 610us/step - loss: 2.3141 - accuracy: 0.1038\n",
      "Epoch 3/500\n",
      "307/307 [==============================] - 0s 598us/step - loss: 2.3052 - accuracy: 0.1139\n",
      "Epoch 4/500\n",
      "307/307 [==============================] - 0s 763us/step - loss: 2.3014 - accuracy: 0.1167\n",
      "Epoch 5/500\n",
      "307/307 [==============================] - 0s 782us/step - loss: 2.2969 - accuracy: 0.1179\n",
      "Epoch 6/500\n",
      "307/307 [==============================] - 0s 675us/step - loss: 2.2944 - accuracy: 0.1279\n",
      "Epoch 7/500\n",
      "307/307 [==============================] - 0s 658us/step - loss: 2.2944 - accuracy: 0.1263\n",
      "Epoch 8/500\n",
      "307/307 [==============================] - 0s 677us/step - loss: 2.2874 - accuracy: 0.1289\n",
      "Epoch 9/500\n",
      "307/307 [==============================] - 0s 667us/step - loss: 2.2822 - accuracy: 0.1360\n",
      "Epoch 10/500\n",
      "307/307 [==============================] - 0s 671us/step - loss: 2.2767 - accuracy: 0.1396\n",
      "Epoch 11/500\n",
      "307/307 [==============================] - 0s 690us/step - loss: 2.2741 - accuracy: 0.1456\n",
      "Epoch 12/500\n",
      "307/307 [==============================] - 0s 671us/step - loss: 2.2638 - accuracy: 0.1483\n",
      "Epoch 13/500\n",
      "307/307 [==============================] - 0s 675us/step - loss: 2.2547 - accuracy: 0.1561\n",
      "Epoch 14/500\n",
      "307/307 [==============================] - 0s 673us/step - loss: 2.2417 - accuracy: 0.1603\n",
      "Epoch 15/500\n",
      "307/307 [==============================] - 0s 665us/step - loss: 2.2292 - accuracy: 0.1680\n",
      "Epoch 16/500\n",
      "307/307 [==============================] - 0s 707us/step - loss: 2.2151 - accuracy: 0.1777\n",
      "Epoch 17/500\n",
      "307/307 [==============================] - 0s 732us/step - loss: 2.2009 - accuracy: 0.1850\n",
      "Epoch 18/500\n",
      "307/307 [==============================] - 0s 715us/step - loss: 2.1847 - accuracy: 0.1924\n",
      "Epoch 19/500\n",
      "307/307 [==============================] - 0s 707us/step - loss: 2.1718 - accuracy: 0.1968\n",
      "Epoch 20/500\n",
      "307/307 [==============================] - 0s 684us/step - loss: 2.1551 - accuracy: 0.2052\n",
      "Epoch 21/500\n",
      "307/307 [==============================] - 0s 683us/step - loss: 2.1476 - accuracy: 0.2116\n",
      "Epoch 22/500\n",
      "307/307 [==============================] - 0s 677us/step - loss: 2.1209 - accuracy: 0.2242\n",
      "Epoch 23/500\n",
      "307/307 [==============================] - 0s 700us/step - loss: 2.0977 - accuracy: 0.2334\n",
      "Epoch 24/500\n",
      "307/307 [==============================] - 0s 672us/step - loss: 2.0828 - accuracy: 0.2378\n",
      "Epoch 25/500\n",
      "307/307 [==============================] - 0s 666us/step - loss: 2.0684 - accuracy: 0.2461\n",
      "Epoch 26/500\n",
      "307/307 [==============================] - 0s 729us/step - loss: 2.0453 - accuracy: 0.2530\n",
      "Epoch 27/500\n",
      "307/307 [==============================] - 0s 701us/step - loss: 2.0362 - accuracy: 0.2581\n",
      "Epoch 28/500\n",
      "307/307 [==============================] - 0s 703us/step - loss: 2.0136 - accuracy: 0.2695\n",
      "Epoch 29/500\n",
      "307/307 [==============================] - 0s 772us/step - loss: 1.9942 - accuracy: 0.2777\n",
      "Epoch 30/500\n",
      "307/307 [==============================] - 0s 776us/step - loss: 1.9768 - accuracy: 0.2845\n",
      "Epoch 31/500\n",
      "307/307 [==============================] - 0s 745us/step - loss: 1.9567 - accuracy: 0.2900\n",
      "Epoch 32/500\n",
      "307/307 [==============================] - 0s 742us/step - loss: 1.9477 - accuracy: 0.2966\n",
      "Epoch 33/500\n",
      "307/307 [==============================] - 0s 761us/step - loss: 1.9255 - accuracy: 0.3026\n",
      "Epoch 34/500\n",
      "307/307 [==============================] - 0s 739us/step - loss: 1.9175 - accuracy: 0.3120\n",
      "Epoch 35/500\n",
      "307/307 [==============================] - 0s 738us/step - loss: 1.8989 - accuracy: 0.3152\n",
      "Epoch 36/500\n",
      "307/307 [==============================] - 0s 711us/step - loss: 1.8734 - accuracy: 0.3270\n",
      "Epoch 37/500\n",
      "307/307 [==============================] - 0s 696us/step - loss: 1.8640 - accuracy: 0.3299\n",
      "Epoch 38/500\n",
      "307/307 [==============================] - 0s 697us/step - loss: 1.8443 - accuracy: 0.3414\n",
      "Epoch 39/500\n",
      "307/307 [==============================] - 0s 748us/step - loss: 1.8306 - accuracy: 0.3433\n",
      "Epoch 40/500\n",
      "307/307 [==============================] - 0s 764us/step - loss: 1.8165 - accuracy: 0.3484\n",
      "Epoch 41/500\n",
      "307/307 [==============================] - 0s 759us/step - loss: 1.7961 - accuracy: 0.3576\n",
      "Epoch 42/500\n",
      "307/307 [==============================] - 0s 766us/step - loss: 1.7910 - accuracy: 0.3585\n",
      "Epoch 43/500\n",
      "307/307 [==============================] - 0s 779us/step - loss: 1.7703 - accuracy: 0.3658\n",
      "Epoch 44/500\n",
      "307/307 [==============================] - 0s 743us/step - loss: 1.7622 - accuracy: 0.3708\n",
      "Epoch 45/500\n",
      "307/307 [==============================] - 0s 767us/step - loss: 1.7432 - accuracy: 0.3767\n",
      "Epoch 46/500\n",
      "307/307 [==============================] - 0s 793us/step - loss: 1.7508 - accuracy: 0.3742\n",
      "Epoch 47/500\n",
      "307/307 [==============================] - 0s 771us/step - loss: 1.7155 - accuracy: 0.3857\n",
      "Epoch 48/500\n",
      "307/307 [==============================] - 0s 759us/step - loss: 1.7020 - accuracy: 0.3916\n",
      "Epoch 49/500\n",
      "307/307 [==============================] - 0s 752us/step - loss: 1.6919 - accuracy: 0.3959\n",
      "Epoch 50/500\n",
      "307/307 [==============================] - 0s 744us/step - loss: 1.6821 - accuracy: 0.4001\n",
      "Epoch 51/500\n",
      "307/307 [==============================] - 0s 766us/step - loss: 1.6796 - accuracy: 0.3991\n",
      "Epoch 52/500\n",
      "307/307 [==============================] - 0s 699us/step - loss: 1.6572 - accuracy: 0.4108\n",
      "Epoch 53/500\n",
      "307/307 [==============================] - 0s 711us/step - loss: 1.6405 - accuracy: 0.4155\n",
      "Epoch 54/500\n",
      "307/307 [==============================] - 0s 702us/step - loss: 1.6319 - accuracy: 0.4251\n",
      "Epoch 55/500\n",
      "307/307 [==============================] - 0s 745us/step - loss: 1.6218 - accuracy: 0.4246\n",
      "Epoch 56/500\n",
      "307/307 [==============================] - 0s 725us/step - loss: 1.6036 - accuracy: 0.4308\n",
      "Epoch 57/500\n",
      "307/307 [==============================] - 0s 696us/step - loss: 1.5973 - accuracy: 0.4320\n",
      "Epoch 58/500\n",
      "307/307 [==============================] - 0s 698us/step - loss: 1.5914 - accuracy: 0.4335\n",
      "Epoch 59/500\n",
      "307/307 [==============================] - 0s 700us/step - loss: 1.5835 - accuracy: 0.4376\n",
      "Epoch 60/500\n",
      "307/307 [==============================] - 0s 711us/step - loss: 1.5692 - accuracy: 0.4419\n",
      "Epoch 61/500\n",
      "307/307 [==============================] - 0s 704us/step - loss: 1.5859 - accuracy: 0.4370\n",
      "Epoch 62/500\n",
      "307/307 [==============================] - 0s 724us/step - loss: 1.5539 - accuracy: 0.4469\n",
      "Epoch 63/500\n",
      "307/307 [==============================] - 0s 753us/step - loss: 1.5469 - accuracy: 0.4501\n",
      "Epoch 64/500\n",
      "307/307 [==============================] - 0s 717us/step - loss: 1.5232 - accuracy: 0.4575\n",
      "Epoch 65/500\n",
      "307/307 [==============================] - 0s 774us/step - loss: 1.5112 - accuracy: 0.4691\n",
      "Epoch 66/500\n",
      "307/307 [==============================] - 0s 766us/step - loss: 1.5089 - accuracy: 0.4644\n",
      "Epoch 67/500\n",
      "307/307 [==============================] - 0s 745us/step - loss: 1.4966 - accuracy: 0.4696\n",
      "Epoch 68/500\n",
      "307/307 [==============================] - 0s 744us/step - loss: 1.4954 - accuracy: 0.4703\n",
      "Epoch 69/500\n",
      "307/307 [==============================] - 0s 696us/step - loss: 1.4809 - accuracy: 0.4731\n",
      "Epoch 70/500\n",
      "307/307 [==============================] - 0s 769us/step - loss: 1.4733 - accuracy: 0.4763\n",
      "Epoch 71/500\n",
      "307/307 [==============================] - 0s 714us/step - loss: 1.4827 - accuracy: 0.4767\n",
      "Epoch 72/500\n",
      "307/307 [==============================] - 0s 701us/step - loss: 1.4603 - accuracy: 0.4826\n",
      "Epoch 73/500\n",
      "307/307 [==============================] - 0s 662us/step - loss: 1.4527 - accuracy: 0.4867\n",
      "Epoch 74/500\n",
      "307/307 [==============================] - 0s 661us/step - loss: 1.4532 - accuracy: 0.4847\n",
      "Epoch 75/500\n",
      "307/307 [==============================] - 0s 750us/step - loss: 1.4467 - accuracy: 0.4876\n",
      "Epoch 76/500\n",
      "307/307 [==============================] - 0s 818us/step - loss: 1.4353 - accuracy: 0.4927\n",
      "Epoch 77/500\n",
      "307/307 [==============================] - 0s 702us/step - loss: 1.4201 - accuracy: 0.4988\n",
      "Epoch 78/500\n",
      "307/307 [==============================] - 0s 687us/step - loss: 1.4064 - accuracy: 0.5000\n",
      "Epoch 79/500\n"
     ]
    },
    {
     "name": "stdout",
     "output_type": "stream",
     "text": [
      "307/307 [==============================] - 0s 699us/step - loss: 1.3975 - accuracy: 0.5071\n",
      "Epoch 80/500\n",
      "307/307 [==============================] - 0s 671us/step - loss: 1.3991 - accuracy: 0.5073\n",
      "Epoch 81/500\n",
      "307/307 [==============================] - 0s 711us/step - loss: 1.4108 - accuracy: 0.5010\n",
      "Epoch 82/500\n",
      "307/307 [==============================] - 0s 719us/step - loss: 1.3846 - accuracy: 0.5107\n",
      "Epoch 83/500\n",
      "307/307 [==============================] - 0s 692us/step - loss: 1.3764 - accuracy: 0.5124\n",
      "Epoch 84/500\n",
      "307/307 [==============================] - 0s 722us/step - loss: 1.3878 - accuracy: 0.5084\n",
      "Epoch 85/500\n",
      "307/307 [==============================] - 0s 717us/step - loss: 1.3659 - accuracy: 0.5164\n",
      "Epoch 86/500\n",
      "307/307 [==============================] - 0s 714us/step - loss: 1.3539 - accuracy: 0.5218\n",
      "Epoch 87/500\n",
      "307/307 [==============================] - 0s 723us/step - loss: 1.3658 - accuracy: 0.5178\n",
      "Epoch 88/500\n",
      "307/307 [==============================] - 0s 701us/step - loss: 1.3661 - accuracy: 0.5165\n",
      "Epoch 89/500\n",
      "307/307 [==============================] - 0s 703us/step - loss: 1.3844 - accuracy: 0.5096\n",
      "Epoch 90/500\n",
      "307/307 [==============================] - 0s 696us/step - loss: 1.3465 - accuracy: 0.5238\n",
      "Epoch 91/500\n",
      "307/307 [==============================] - 0s 707us/step - loss: 1.3259 - accuracy: 0.5305\n",
      "Epoch 92/500\n",
      "307/307 [==============================] - 0s 706us/step - loss: 1.3184 - accuracy: 0.5348\n",
      "Epoch 93/500\n",
      "307/307 [==============================] - 0s 706us/step - loss: 1.3145 - accuracy: 0.5317\n",
      "Epoch 94/500\n",
      "307/307 [==============================] - 0s 692us/step - loss: 1.3239 - accuracy: 0.5315\n",
      "Epoch 95/500\n",
      "307/307 [==============================] - 0s 708us/step - loss: 1.3031 - accuracy: 0.5366\n",
      "Epoch 96/500\n",
      "307/307 [==============================] - 0s 715us/step - loss: 1.2919 - accuracy: 0.5436\n",
      "Epoch 97/500\n",
      "307/307 [==============================] - 0s 719us/step - loss: 1.2884 - accuracy: 0.5440\n",
      "Epoch 98/500\n",
      "307/307 [==============================] - 0s 737us/step - loss: 1.4200 - accuracy: 0.5026\n",
      "Epoch 99/500\n",
      "307/307 [==============================] - 0s 717us/step - loss: 1.2844 - accuracy: 0.5458\n",
      "Epoch 100/500\n",
      "307/307 [==============================] - 0s 707us/step - loss: 1.2749 - accuracy: 0.5498\n",
      "Epoch 101/500\n",
      "307/307 [==============================] - 0s 712us/step - loss: 1.2637 - accuracy: 0.5545\n",
      "Epoch 102/500\n",
      "307/307 [==============================] - 0s 705us/step - loss: 1.2811 - accuracy: 0.5481\n",
      "Epoch 103/500\n",
      "307/307 [==============================] - 0s 702us/step - loss: 1.2531 - accuracy: 0.5575\n",
      "Epoch 104/500\n",
      "307/307 [==============================] - 0s 693us/step - loss: 1.2568 - accuracy: 0.5553\n",
      "Epoch 105/500\n",
      "307/307 [==============================] - 0s 723us/step - loss: 1.2592 - accuracy: 0.5548\n",
      "Epoch 106/500\n",
      "307/307 [==============================] - 0s 712us/step - loss: 1.2460 - accuracy: 0.5597\n",
      "Epoch 107/500\n",
      "307/307 [==============================] - 0s 702us/step - loss: 1.2520 - accuracy: 0.5584\n",
      "Epoch 108/500\n",
      "307/307 [==============================] - 0s 716us/step - loss: 1.2491 - accuracy: 0.5586\n",
      "Epoch 109/500\n",
      "307/307 [==============================] - 0s 696us/step - loss: 1.2792 - accuracy: 0.5481\n",
      "Epoch 110/500\n",
      "307/307 [==============================] - 0s 671us/step - loss: 1.2468 - accuracy: 0.5592\n",
      "Epoch 111/500\n",
      "307/307 [==============================] - 0s 672us/step - loss: 1.2397 - accuracy: 0.5624\n",
      "Epoch 112/500\n",
      "307/307 [==============================] - 0s 655us/step - loss: 1.2159 - accuracy: 0.5711\n",
      "Epoch 113/500\n",
      "307/307 [==============================] - 0s 709us/step - loss: 1.2247 - accuracy: 0.5666\n",
      "Epoch 114/500\n",
      "307/307 [==============================] - 0s 682us/step - loss: 1.2075 - accuracy: 0.5738\n",
      "Epoch 115/500\n",
      "307/307 [==============================] - 0s 747us/step - loss: 1.2023 - accuracy: 0.5753\n",
      "Epoch 116/500\n",
      "307/307 [==============================] - 0s 712us/step - loss: 1.2064 - accuracy: 0.5745\n",
      "Epoch 117/500\n",
      "307/307 [==============================] - 0s 709us/step - loss: 1.2328 - accuracy: 0.5637\n",
      "Epoch 118/500\n",
      "307/307 [==============================] - 0s 716us/step - loss: 1.1838 - accuracy: 0.5809\n",
      "Epoch 119/500\n",
      "307/307 [==============================] - 0s 711us/step - loss: 1.1801 - accuracy: 0.5820\n",
      "Epoch 120/500\n",
      "307/307 [==============================] - 0s 700us/step - loss: 1.1855 - accuracy: 0.5812\n",
      "Epoch 121/500\n",
      "307/307 [==============================] - 0s 683us/step - loss: 1.1922 - accuracy: 0.5779\n",
      "Epoch 122/500\n",
      "307/307 [==============================] - 0s 705us/step - loss: 1.1757 - accuracy: 0.5822\n",
      "Epoch 123/500\n",
      "307/307 [==============================] - 0s 707us/step - loss: 1.1749 - accuracy: 0.5844\n",
      "Epoch 124/500\n",
      "307/307 [==============================] - 0s 698us/step - loss: 1.1666 - accuracy: 0.5880\n",
      "Epoch 125/500\n",
      "307/307 [==============================] - 0s 703us/step - loss: 1.1725 - accuracy: 0.5863\n",
      "Epoch 126/500\n",
      "307/307 [==============================] - 0s 706us/step - loss: 1.1976 - accuracy: 0.5776\n",
      "Epoch 127/500\n",
      "307/307 [==============================] - 0s 673us/step - loss: 1.1455 - accuracy: 0.5942\n",
      "Epoch 128/500\n",
      "307/307 [==============================] - 0s 677us/step - loss: 1.1614 - accuracy: 0.5899\n",
      "Epoch 129/500\n",
      "307/307 [==============================] - 0s 671us/step - loss: 1.1469 - accuracy: 0.5946\n",
      "Epoch 130/500\n",
      "307/307 [==============================] - 0s 666us/step - loss: 1.1589 - accuracy: 0.5893\n",
      "Epoch 131/500\n",
      "307/307 [==============================] - 0s 671us/step - loss: 1.1395 - accuracy: 0.5986\n",
      "Epoch 132/500\n",
      "307/307 [==============================] - 0s 650us/step - loss: 1.1355 - accuracy: 0.5991\n",
      "Epoch 133/500\n",
      "307/307 [==============================] - 0s 662us/step - loss: 1.1397 - accuracy: 0.5985\n",
      "Epoch 134/500\n",
      "307/307 [==============================] - 0s 669us/step - loss: 1.1334 - accuracy: 0.5982\n",
      "Epoch 135/500\n",
      "307/307 [==============================] - 0s 666us/step - loss: 1.1342 - accuracy: 0.5998\n",
      "Epoch 136/500\n",
      "307/307 [==============================] - 0s 673us/step - loss: 1.1172 - accuracy: 0.6045\n",
      "Epoch 137/500\n",
      "307/307 [==============================] - 0s 652us/step - loss: 1.1187 - accuracy: 0.6040\n",
      "Epoch 138/500\n",
      "307/307 [==============================] - 0s 665us/step - loss: 1.1226 - accuracy: 0.6056\n",
      "Epoch 139/500\n",
      "307/307 [==============================] - 0s 659us/step - loss: 1.1629 - accuracy: 0.5878\n",
      "Epoch 140/500\n",
      "307/307 [==============================] - 0s 667us/step - loss: 1.1001 - accuracy: 0.6127\n",
      "Epoch 141/500\n",
      "307/307 [==============================] - 0s 668us/step - loss: 1.1088 - accuracy: 0.6082\n",
      "Epoch 142/500\n",
      "307/307 [==============================] - 0s 663us/step - loss: 1.1045 - accuracy: 0.6087\n",
      "Epoch 143/500\n",
      "307/307 [==============================] - 0s 662us/step - loss: 1.1057 - accuracy: 0.6090\n",
      "Epoch 144/500\n",
      "307/307 [==============================] - 0s 703us/step - loss: 1.1757 - accuracy: 0.5856\n",
      "Epoch 145/500\n",
      "307/307 [==============================] - 0s 668us/step - loss: 1.0826 - accuracy: 0.6157\n",
      "Epoch 146/500\n",
      "307/307 [==============================] - 0s 672us/step - loss: 1.0839 - accuracy: 0.6191\n",
      "Epoch 147/500\n",
      "307/307 [==============================] - 0s 663us/step - loss: 1.0867 - accuracy: 0.6174\n",
      "Epoch 148/500\n",
      "307/307 [==============================] - 0s 646us/step - loss: 1.0939 - accuracy: 0.6125\n",
      "Epoch 149/500\n",
      "307/307 [==============================] - 0s 635us/step - loss: 1.0848 - accuracy: 0.6168\n",
      "Epoch 150/500\n",
      "307/307 [==============================] - 0s 653us/step - loss: 1.0710 - accuracy: 0.6209\n",
      "Epoch 151/500\n",
      "307/307 [==============================] - 0s 741us/step - loss: 1.0865 - accuracy: 0.6144\n",
      "Epoch 152/500\n",
      "307/307 [==============================] - 0s 673us/step - loss: 1.0800 - accuracy: 0.6183\n",
      "Epoch 153/500\n",
      "307/307 [==============================] - 0s 658us/step - loss: 1.0788 - accuracy: 0.6177\n",
      "Epoch 154/500\n",
      "307/307 [==============================] - 0s 673us/step - loss: 1.0727 - accuracy: 0.6214\n",
      "Epoch 155/500\n",
      "307/307 [==============================] - 0s 669us/step - loss: 1.1213 - accuracy: 0.6043\n",
      "Epoch 156/500\n",
      "307/307 [==============================] - 0s 667us/step - loss: 1.0803 - accuracy: 0.6165\n",
      "Epoch 157/500\n"
     ]
    },
    {
     "name": "stdout",
     "output_type": "stream",
     "text": [
      "307/307 [==============================] - 0s 665us/step - loss: 1.0466 - accuracy: 0.6305\n",
      "Epoch 158/500\n",
      "307/307 [==============================] - 0s 648us/step - loss: 1.0717 - accuracy: 0.6180\n",
      "Epoch 159/500\n",
      "307/307 [==============================] - 0s 662us/step - loss: 1.1021 - accuracy: 0.6079\n",
      "Epoch 160/500\n",
      "307/307 [==============================] - 0s 666us/step - loss: 1.0358 - accuracy: 0.6348\n",
      "Epoch 161/500\n",
      "307/307 [==============================] - 0s 663us/step - loss: 1.0361 - accuracy: 0.6353\n",
      "Epoch 162/500\n",
      "307/307 [==============================] - 0s 661us/step - loss: 1.0494 - accuracy: 0.6314\n",
      "Epoch 163/500\n",
      "307/307 [==============================] - 0s 643us/step - loss: 1.0451 - accuracy: 0.6289\n",
      "Epoch 164/500\n",
      "307/307 [==============================] - 0s 651us/step - loss: 1.0570 - accuracy: 0.6234\n",
      "Epoch 165/500\n",
      "307/307 [==============================] - 0s 655us/step - loss: 1.0740 - accuracy: 0.6193\n",
      "Epoch 166/500\n",
      "307/307 [==============================] - 0s 654us/step - loss: 1.0559 - accuracy: 0.6284\n",
      "Epoch 167/500\n",
      "307/307 [==============================] - 0s 645us/step - loss: 1.0292 - accuracy: 0.6368\n",
      "Epoch 168/500\n",
      "307/307 [==============================] - 0s 642us/step - loss: 1.0267 - accuracy: 0.6361\n",
      "Epoch 169/500\n",
      "307/307 [==============================] - 0s 654us/step - loss: 1.0506 - accuracy: 0.6296\n",
      "Epoch 170/500\n",
      "307/307 [==============================] - 0s 669us/step - loss: 1.0450 - accuracy: 0.6284\n",
      "Epoch 171/500\n",
      "307/307 [==============================] - 0s 662us/step - loss: 1.0180 - accuracy: 0.6359\n",
      "Epoch 172/500\n",
      "307/307 [==============================] - 0s 666us/step - loss: 1.0050 - accuracy: 0.6437\n",
      "Epoch 173/500\n",
      "307/307 [==============================] - 0s 664us/step - loss: 1.0154 - accuracy: 0.6393\n",
      "Epoch 174/500\n",
      "307/307 [==============================] - 0s 645us/step - loss: 1.0089 - accuracy: 0.6437\n",
      "Epoch 175/500\n",
      "307/307 [==============================] - 0s 657us/step - loss: 1.0299 - accuracy: 0.6344\n",
      "Epoch 176/500\n",
      "307/307 [==============================] - 0s 663us/step - loss: 1.0264 - accuracy: 0.6337\n",
      "Epoch 177/500\n",
      "307/307 [==============================] - 0s 645us/step - loss: 1.0014 - accuracy: 0.6427\n",
      "Epoch 178/500\n",
      "307/307 [==============================] - 0s 651us/step - loss: 1.0227 - accuracy: 0.6364\n",
      "Epoch 179/500\n",
      "307/307 [==============================] - 0s 649us/step - loss: 0.9958 - accuracy: 0.6460\n",
      "Epoch 180/500\n",
      "307/307 [==============================] - 0s 690us/step - loss: 1.0001 - accuracy: 0.6472\n",
      "Epoch 181/500\n",
      "307/307 [==============================] - 0s 667us/step - loss: 0.9968 - accuracy: 0.6452\n",
      "Epoch 182/500\n",
      "307/307 [==============================] - 0s 662us/step - loss: 1.0008 - accuracy: 0.6442\n",
      "Epoch 183/500\n",
      "307/307 [==============================] - 0s 653us/step - loss: 0.9940 - accuracy: 0.6460\n",
      "Epoch 184/500\n",
      "307/307 [==============================] - 0s 639us/step - loss: 1.0065 - accuracy: 0.6411\n",
      "Epoch 185/500\n",
      "307/307 [==============================] - 0s 663us/step - loss: 0.9758 - accuracy: 0.6524\n",
      "Epoch 186/500\n",
      "307/307 [==============================] - 0s 662us/step - loss: 1.0359 - accuracy: 0.6301\n",
      "Epoch 187/500\n",
      "307/307 [==============================] - 0s 674us/step - loss: 0.9758 - accuracy: 0.6519\n",
      "Epoch 188/500\n",
      "307/307 [==============================] - 0s 655us/step - loss: 0.9964 - accuracy: 0.6452\n",
      "Epoch 189/500\n",
      "307/307 [==============================] - 0s 649us/step - loss: 1.0029 - accuracy: 0.6450\n",
      "Epoch 190/500\n",
      "307/307 [==============================] - 0s 660us/step - loss: 0.9778 - accuracy: 0.6515\n",
      "Epoch 191/500\n",
      "307/307 [==============================] - 0s 661us/step - loss: 0.9719 - accuracy: 0.6558\n",
      "Epoch 192/500\n",
      "307/307 [==============================] - 0s 646us/step - loss: 0.9655 - accuracy: 0.6565\n",
      "Epoch 193/500\n",
      "307/307 [==============================] - 0s 659us/step - loss: 0.9630 - accuracy: 0.6585\n",
      "Epoch 194/500\n",
      "307/307 [==============================] - 0s 657us/step - loss: 0.9670 - accuracy: 0.6568\n",
      "Epoch 195/500\n",
      "307/307 [==============================] - 0s 658us/step - loss: 0.9858 - accuracy: 0.6477\n",
      "Epoch 196/500\n",
      "307/307 [==============================] - 0s 661us/step - loss: 0.9857 - accuracy: 0.6469\n",
      "Epoch 197/500\n",
      "307/307 [==============================] - 0s 664us/step - loss: 0.9690 - accuracy: 0.6549\n",
      "Epoch 198/500\n",
      "307/307 [==============================] - 0s 656us/step - loss: 0.9826 - accuracy: 0.6487\n",
      "Epoch 199/500\n",
      "307/307 [==============================] - 0s 657us/step - loss: 0.9550 - accuracy: 0.6591\n",
      "Epoch 200/500\n",
      "307/307 [==============================] - 0s 646us/step - loss: 0.9486 - accuracy: 0.6633\n",
      "Epoch 201/500\n",
      "307/307 [==============================] - 0s 665us/step - loss: 0.9810 - accuracy: 0.6518\n",
      "Epoch 202/500\n",
      "307/307 [==============================] - 0s 663us/step - loss: 0.9771 - accuracy: 0.6517\n",
      "Epoch 203/500\n",
      "307/307 [==============================] - 0s 664us/step - loss: 0.9521 - accuracy: 0.6583\n",
      "Epoch 204/500\n",
      "307/307 [==============================] - 0s 658us/step - loss: 0.9311 - accuracy: 0.6684\n",
      "Epoch 205/500\n",
      "307/307 [==============================] - 0s 656us/step - loss: 0.9671 - accuracy: 0.6564\n",
      "Epoch 206/500\n",
      "307/307 [==============================] - 0s 662us/step - loss: 0.9824 - accuracy: 0.6501\n",
      "Epoch 207/500\n",
      "307/307 [==============================] - 0s 669us/step - loss: 0.9321 - accuracy: 0.6693\n",
      "Epoch 208/500\n",
      "307/307 [==============================] - 0s 654us/step - loss: 0.9258 - accuracy: 0.6711\n",
      "Epoch 209/500\n",
      "307/307 [==============================] - 0s 654us/step - loss: 1.0077 - accuracy: 0.6450\n",
      "Epoch 210/500\n",
      "307/307 [==============================] - 0s 655us/step - loss: 0.9667 - accuracy: 0.6553\n",
      "Epoch 211/500\n",
      "307/307 [==============================] - 0s 657us/step - loss: 0.9162 - accuracy: 0.6764\n",
      "Epoch 212/500\n",
      "307/307 [==============================] - 0s 665us/step - loss: 0.9345 - accuracy: 0.6669\n",
      "Epoch 213/500\n",
      "307/307 [==============================] - 0s 663us/step - loss: 0.9314 - accuracy: 0.6695\n",
      "Epoch 214/500\n",
      "307/307 [==============================] - 0s 662us/step - loss: 0.9176 - accuracy: 0.6740\n",
      "Epoch 215/500\n",
      "307/307 [==============================] - 0s 646us/step - loss: 0.9233 - accuracy: 0.6699\n",
      "Epoch 216/500\n",
      "307/307 [==============================] - 0s 654us/step - loss: 0.9070 - accuracy: 0.6793\n",
      "Epoch 217/500\n",
      "307/307 [==============================] - 0s 669us/step - loss: 0.9158 - accuracy: 0.6743\n",
      "Epoch 218/500\n",
      "307/307 [==============================] - 0s 666us/step - loss: 0.9160 - accuracy: 0.6725\n",
      "Epoch 219/500\n",
      "307/307 [==============================] - 0s 656us/step - loss: 0.9136 - accuracy: 0.6730\n",
      "Epoch 220/500\n",
      "307/307 [==============================] - 0s 697us/step - loss: 0.9097 - accuracy: 0.6744\n",
      "Epoch 221/500\n",
      "307/307 [==============================] - 0s 664us/step - loss: 0.9238 - accuracy: 0.6680\n",
      "Epoch 222/500\n",
      "307/307 [==============================] - 0s 666us/step - loss: 0.9498 - accuracy: 0.6589\n",
      "Epoch 223/500\n",
      "307/307 [==============================] - 0s 665us/step - loss: 0.9042 - accuracy: 0.6781\n",
      "Epoch 224/500\n",
      "307/307 [==============================] - 0s 665us/step - loss: 0.9418 - accuracy: 0.6636\n",
      "Epoch 225/500\n",
      "307/307 [==============================] - 0s 665us/step - loss: 0.8943 - accuracy: 0.6802\n",
      "Epoch 226/500\n",
      "307/307 [==============================] - 0s 650us/step - loss: 0.9540 - accuracy: 0.6592\n",
      "Epoch 227/500\n",
      "307/307 [==============================] - 0s 635us/step - loss: 0.9158 - accuracy: 0.6728\n",
      "Epoch 228/500\n",
      "307/307 [==============================] - 0s 610us/step - loss: 0.8970 - accuracy: 0.6833\n",
      "Epoch 229/500\n",
      "307/307 [==============================] - 0s 750us/step - loss: 0.9172 - accuracy: 0.6738\n",
      "Epoch 230/500\n",
      "307/307 [==============================] - 0s 680us/step - loss: 0.8892 - accuracy: 0.6839\n",
      "Epoch 231/500\n",
      "307/307 [==============================] - 0s 654us/step - loss: 0.9081 - accuracy: 0.6746\n",
      "Epoch 232/500\n",
      "307/307 [==============================] - 0s 655us/step - loss: 0.8883 - accuracy: 0.6832\n",
      "Epoch 233/500\n",
      "307/307 [==============================] - 0s 654us/step - loss: 0.9151 - accuracy: 0.6700\n",
      "Epoch 234/500\n",
      "307/307 [==============================] - 0s 660us/step - loss: 0.9033 - accuracy: 0.6784\n",
      "Epoch 235/500\n"
     ]
    },
    {
     "name": "stdout",
     "output_type": "stream",
     "text": [
      "307/307 [==============================] - 0s 650us/step - loss: 0.8917 - accuracy: 0.6819\n",
      "Epoch 236/500\n",
      "307/307 [==============================] - 0s 649us/step - loss: 0.8792 - accuracy: 0.6859\n",
      "Epoch 237/500\n",
      "307/307 [==============================] - 0s 663us/step - loss: 0.9039 - accuracy: 0.6787\n",
      "Epoch 238/500\n",
      "307/307 [==============================] - 0s 656us/step - loss: 0.9117 - accuracy: 0.6759\n",
      "Epoch 239/500\n",
      "307/307 [==============================] - 0s 661us/step - loss: 0.8695 - accuracy: 0.6894\n",
      "Epoch 240/500\n",
      "307/307 [==============================] - 0s 664us/step - loss: 0.9001 - accuracy: 0.6771\n",
      "Epoch 241/500\n",
      "307/307 [==============================] - 0s 646us/step - loss: 0.8944 - accuracy: 0.6814\n",
      "Epoch 242/500\n",
      "307/307 [==============================] - 0s 663us/step - loss: 0.8687 - accuracy: 0.6894\n",
      "Epoch 243/500\n",
      "307/307 [==============================] - 0s 666us/step - loss: 0.8672 - accuracy: 0.6920\n",
      "Epoch 244/500\n",
      "307/307 [==============================] - 0s 660us/step - loss: 0.8705 - accuracy: 0.6885\n",
      "Epoch 245/500\n",
      "307/307 [==============================] - 0s 660us/step - loss: 0.8874 - accuracy: 0.6821\n",
      "Epoch 246/500\n",
      "307/307 [==============================] - 0s 656us/step - loss: 0.8843 - accuracy: 0.6811\n",
      "Epoch 247/500\n",
      "307/307 [==============================] - 0s 651us/step - loss: 0.8622 - accuracy: 0.6919\n",
      "Epoch 248/500\n",
      "307/307 [==============================] - 0s 662us/step - loss: 0.8758 - accuracy: 0.6888\n",
      "Epoch 249/500\n",
      "307/307 [==============================] - 0s 661us/step - loss: 0.8753 - accuracy: 0.6864\n",
      "Epoch 250/500\n",
      "307/307 [==============================] - 0s 663us/step - loss: 0.9265 - accuracy: 0.6667\n",
      "Epoch 251/500\n",
      "307/307 [==============================] - 0s 660us/step - loss: 0.8744 - accuracy: 0.6854\n",
      "Epoch 252/500\n",
      "307/307 [==============================] - 0s 649us/step - loss: 0.8777 - accuracy: 0.6865\n",
      "Epoch 253/500\n",
      "307/307 [==============================] - 0s 661us/step - loss: 0.8528 - accuracy: 0.6943\n",
      "Epoch 254/500\n",
      "307/307 [==============================] - 0s 654us/step - loss: 0.8904 - accuracy: 0.6840\n",
      "Epoch 255/500\n",
      "307/307 [==============================] - 0s 658us/step - loss: 0.8610 - accuracy: 0.6936\n",
      "Epoch 256/500\n",
      "307/307 [==============================] - 0s 660us/step - loss: 0.8388 - accuracy: 0.7006\n",
      "Epoch 257/500\n",
      "307/307 [==============================] - 0s 676us/step - loss: 0.8431 - accuracy: 0.6977\n",
      "Epoch 258/500\n",
      "307/307 [==============================] - 0s 645us/step - loss: 0.8565 - accuracy: 0.6938\n",
      "Epoch 259/500\n",
      "307/307 [==============================] - 0s 656us/step - loss: 0.8426 - accuracy: 0.6972\n",
      "Epoch 260/500\n",
      "307/307 [==============================] - 0s 665us/step - loss: 0.8656 - accuracy: 0.6905\n",
      "Epoch 261/500\n",
      "307/307 [==============================] - 0s 659us/step - loss: 0.8467 - accuracy: 0.6971\n",
      "Epoch 262/500\n",
      "307/307 [==============================] - 0s 634us/step - loss: 0.8440 - accuracy: 0.6982\n",
      "Epoch 263/500\n",
      "307/307 [==============================] - 0s 650us/step - loss: 0.9481 - accuracy: 0.6622\n",
      "Epoch 264/500\n",
      "307/307 [==============================] - 0s 661us/step - loss: 0.8212 - accuracy: 0.7071\n",
      "Epoch 265/500\n",
      "307/307 [==============================] - 0s 662us/step - loss: 0.8441 - accuracy: 0.6977\n",
      "Epoch 266/500\n",
      "307/307 [==============================] - 0s 664us/step - loss: 0.8263 - accuracy: 0.7035\n",
      "Epoch 267/500\n",
      "307/307 [==============================] - 0s 653us/step - loss: 0.8572 - accuracy: 0.6914\n",
      "Epoch 268/500\n",
      "307/307 [==============================] - 0s 663us/step - loss: 0.8884 - accuracy: 0.6785\n",
      "Epoch 269/500\n",
      "307/307 [==============================] - 0s 656us/step - loss: 0.8832 - accuracy: 0.6828\n",
      "Epoch 270/500\n",
      "307/307 [==============================] - 0s 657us/step - loss: 0.8766 - accuracy: 0.6842\n",
      "Epoch 271/500\n",
      "307/307 [==============================] - 0s 663us/step - loss: 0.8309 - accuracy: 0.7020\n",
      "Epoch 272/500\n",
      "307/307 [==============================] - 0s 649us/step - loss: 0.8213 - accuracy: 0.7067\n",
      "Epoch 273/500\n",
      "307/307 [==============================] - 0s 627us/step - loss: 0.8189 - accuracy: 0.7093\n",
      "Epoch 274/500\n",
      "307/307 [==============================] - 0s 644us/step - loss: 0.8865 - accuracy: 0.6837\n",
      "Epoch 275/500\n",
      "307/307 [==============================] - 0s 651us/step - loss: 0.8382 - accuracy: 0.7004\n",
      "Epoch 276/500\n",
      "307/307 [==============================] - 0s 661us/step - loss: 0.9709 - accuracy: 0.6562\n",
      "Epoch 277/500\n",
      "307/307 [==============================] - 0s 655us/step - loss: 0.8033 - accuracy: 0.7134\n",
      "Epoch 278/500\n",
      "307/307 [==============================] - 0s 646us/step - loss: 0.8567 - accuracy: 0.6921\n",
      "Epoch 279/500\n",
      "307/307 [==============================] - 0s 655us/step - loss: 0.8000 - accuracy: 0.7129\n",
      "Epoch 280/500\n",
      "307/307 [==============================] - 0s 665us/step - loss: 0.7984 - accuracy: 0.7153\n",
      "Epoch 281/500\n",
      "307/307 [==============================] - 0s 665us/step - loss: 0.8074 - accuracy: 0.7099\n",
      "Epoch 282/500\n",
      "307/307 [==============================] - 0s 644us/step - loss: 0.8929 - accuracy: 0.6794\n",
      "Epoch 283/500\n",
      "307/307 [==============================] - 0s 637us/step - loss: 0.8096 - accuracy: 0.7087\n",
      "Epoch 284/500\n",
      "307/307 [==============================] - 0s 651us/step - loss: 0.8092 - accuracy: 0.7103\n",
      "Epoch 285/500\n",
      "307/307 [==============================] - 0s 636us/step - loss: 0.8186 - accuracy: 0.7066\n",
      "Epoch 286/500\n",
      "307/307 [==============================] - 0s 650us/step - loss: 0.8513 - accuracy: 0.6945\n",
      "Epoch 287/500\n",
      "307/307 [==============================] - 0s 661us/step - loss: 0.8168 - accuracy: 0.7064\n",
      "Epoch 288/500\n",
      "307/307 [==============================] - 0s 679us/step - loss: 0.8164 - accuracy: 0.7066\n",
      "Epoch 289/500\n",
      "307/307 [==============================] - 0s 651us/step - loss: 0.8177 - accuracy: 0.7072\n",
      "Epoch 290/500\n",
      "307/307 [==============================] - 0s 651us/step - loss: 0.8190 - accuracy: 0.7057\n",
      "Epoch 291/500\n",
      "307/307 [==============================] - 0s 660us/step - loss: 0.8073 - accuracy: 0.7118\n",
      "Epoch 292/500\n",
      "307/307 [==============================] - 0s 658us/step - loss: 0.7990 - accuracy: 0.7126\n",
      "Epoch 293/500\n",
      "307/307 [==============================] - 0s 658us/step - loss: 0.8625 - accuracy: 0.6892\n",
      "Epoch 294/500\n",
      "307/307 [==============================] - 0s 696us/step - loss: 0.8030 - accuracy: 0.7131\n",
      "Epoch 295/500\n",
      "307/307 [==============================] - 0s 666us/step - loss: 0.8205 - accuracy: 0.7060\n",
      "Epoch 296/500\n",
      "307/307 [==============================] - 0s 667us/step - loss: 0.8362 - accuracy: 0.6995\n",
      "Epoch 297/500\n",
      "307/307 [==============================] - 0s 660us/step - loss: 0.8562 - accuracy: 0.6933\n",
      "Epoch 298/500\n",
      "307/307 [==============================] - 0s 662us/step - loss: 0.7759 - accuracy: 0.7226\n",
      "Epoch 299/500\n",
      "307/307 [==============================] - 0s 649us/step - loss: 0.8194 - accuracy: 0.7033\n",
      "Epoch 300/500\n",
      "307/307 [==============================] - 0s 669us/step - loss: 0.7737 - accuracy: 0.7235\n",
      "Epoch 301/500\n",
      "307/307 [==============================] - 0s 668us/step - loss: 0.8067 - accuracy: 0.7111\n",
      "Epoch 302/500\n",
      "307/307 [==============================] - 0s 669us/step - loss: 0.7855 - accuracy: 0.7199\n",
      "Epoch 303/500\n",
      "307/307 [==============================] - 0s 669us/step - loss: 0.9166 - accuracy: 0.6708\n",
      "Epoch 304/500\n",
      "307/307 [==============================] - 0s 644us/step - loss: 0.7718 - accuracy: 0.7240\n",
      "Epoch 305/500\n",
      "307/307 [==============================] - 0s 675us/step - loss: 0.7748 - accuracy: 0.7195\n",
      "Epoch 306/500\n",
      "307/307 [==============================] - 0s 700us/step - loss: 0.7943 - accuracy: 0.7153\n",
      "Epoch 307/500\n",
      "307/307 [==============================] - 0s 642us/step - loss: 0.7732 - accuracy: 0.7228\n",
      "Epoch 308/500\n",
      "307/307 [==============================] - 0s 727us/step - loss: 0.7734 - accuracy: 0.7224\n",
      "Epoch 309/500\n",
      "307/307 [==============================] - 0s 656us/step - loss: 0.8016 - accuracy: 0.7110\n",
      "Epoch 310/500\n",
      "307/307 [==============================] - 0s 669us/step - loss: 0.8177 - accuracy: 0.7050\n",
      "Epoch 311/500\n",
      "307/307 [==============================] - 0s 664us/step - loss: 0.8245 - accuracy: 0.7052\n",
      "Epoch 312/500\n",
      "307/307 [==============================] - 0s 645us/step - loss: 0.7700 - accuracy: 0.7213\n",
      "Epoch 313/500\n"
     ]
    },
    {
     "name": "stdout",
     "output_type": "stream",
     "text": [
      "307/307 [==============================] - 0s 648us/step - loss: 0.7933 - accuracy: 0.7127\n",
      "Epoch 314/500\n",
      "307/307 [==============================] - 0s 652us/step - loss: 0.8086 - accuracy: 0.7091\n",
      "Epoch 315/500\n",
      "307/307 [==============================] - 0s 664us/step - loss: 0.7737 - accuracy: 0.7210\n",
      "Epoch 316/500\n",
      "307/307 [==============================] - 0s 667us/step - loss: 0.8627 - accuracy: 0.6915\n",
      "Epoch 317/500\n",
      "307/307 [==============================] - 0s 666us/step - loss: 0.7832 - accuracy: 0.7186\n",
      "Epoch 318/500\n",
      "307/307 [==============================] - 0s 667us/step - loss: 0.8000 - accuracy: 0.7123\n",
      "Epoch 319/500\n",
      "307/307 [==============================] - 0s 646us/step - loss: 0.7725 - accuracy: 0.7211\n",
      "Epoch 320/500\n",
      "307/307 [==============================] - 0s 654us/step - loss: 0.7673 - accuracy: 0.7255\n",
      "Epoch 321/500\n",
      "307/307 [==============================] - 0s 660us/step - loss: 0.8432 - accuracy: 0.7001\n",
      "Epoch 322/500\n",
      "307/307 [==============================] - 0s 663us/step - loss: 0.8880 - accuracy: 0.6845\n",
      "Epoch 323/500\n",
      "307/307 [==============================] - 0s 663us/step - loss: 0.7565 - accuracy: 0.7273\n",
      "Epoch 324/500\n",
      "307/307 [==============================] - 0s 664us/step - loss: 0.7476 - accuracy: 0.7340\n",
      "Epoch 325/500\n",
      "307/307 [==============================] - 0s 648us/step - loss: 0.7791 - accuracy: 0.7186\n",
      "Epoch 326/500\n",
      "307/307 [==============================] - 0s 662us/step - loss: 0.7899 - accuracy: 0.7138\n",
      "Epoch 327/500\n",
      "307/307 [==============================] - 0s 664us/step - loss: 0.7847 - accuracy: 0.7187\n",
      "Epoch 328/500\n",
      "307/307 [==============================] - 0s 672us/step - loss: 0.7615 - accuracy: 0.7252\n",
      "Epoch 329/500\n",
      "307/307 [==============================] - 0s 694us/step - loss: 0.7577 - accuracy: 0.7272\n",
      "Epoch 330/500\n",
      "307/307 [==============================] - 0s 650us/step - loss: 0.7644 - accuracy: 0.7231\n",
      "Epoch 331/500\n",
      "307/307 [==============================] - 0s 663us/step - loss: 0.7829 - accuracy: 0.7145\n",
      "Epoch 332/500\n",
      "307/307 [==============================] - 0s 657us/step - loss: 0.7875 - accuracy: 0.7137\n",
      "Epoch 333/500\n",
      "307/307 [==============================] - 0s 666us/step - loss: 0.7553 - accuracy: 0.7282\n",
      "Epoch 334/500\n",
      "307/307 [==============================] - 0s 661us/step - loss: 0.7457 - accuracy: 0.7329\n",
      "Epoch 335/500\n",
      "307/307 [==============================] - 0s 644us/step - loss: 0.8186 - accuracy: 0.7024\n",
      "Epoch 336/500\n",
      "307/307 [==============================] - 0s 656us/step - loss: 0.7676 - accuracy: 0.7229\n",
      "Epoch 337/500\n",
      "307/307 [==============================] - 0s 668us/step - loss: 0.8275 - accuracy: 0.7023\n",
      "Epoch 338/500\n",
      "307/307 [==============================] - 0s 662us/step - loss: 0.8217 - accuracy: 0.7072\n",
      "Epoch 339/500\n",
      "307/307 [==============================] - 0s 670us/step - loss: 0.7755 - accuracy: 0.7204\n",
      "Epoch 340/500\n",
      "307/307 [==============================] - 0s 641us/step - loss: 0.7486 - accuracy: 0.7317\n",
      "Epoch 341/500\n",
      "307/307 [==============================] - 0s 657us/step - loss: 0.7352 - accuracy: 0.7352\n",
      "Epoch 342/500\n",
      "307/307 [==============================] - 0s 658us/step - loss: 0.7395 - accuracy: 0.7350\n",
      "Epoch 343/500\n",
      "307/307 [==============================] - 0s 654us/step - loss: 0.7736 - accuracy: 0.7194\n",
      "Epoch 344/500\n",
      "307/307 [==============================] - 0s 656us/step - loss: 0.7507 - accuracy: 0.7294\n",
      "Epoch 345/500\n",
      "307/307 [==============================] - 0s 651us/step - loss: 0.7465 - accuracy: 0.7306\n",
      "Epoch 346/500\n",
      "307/307 [==============================] - 0s 650us/step - loss: 0.7518 - accuracy: 0.7277\n",
      "Epoch 347/500\n",
      "307/307 [==============================] - 0s 666us/step - loss: 0.9297 - accuracy: 0.6774\n",
      "Epoch 348/500\n",
      "307/307 [==============================] - 0s 665us/step - loss: 0.7413 - accuracy: 0.7312\n",
      "Epoch 349/500\n",
      "307/307 [==============================] - 0s 661us/step - loss: 0.7239 - accuracy: 0.7397\n",
      "Epoch 350/500\n",
      "307/307 [==============================] - 0s 664us/step - loss: 0.7514 - accuracy: 0.7268\n",
      "Epoch 351/500\n",
      "307/307 [==============================] - 0s 661us/step - loss: 0.7313 - accuracy: 0.7371\n",
      "Epoch 352/500\n",
      "307/307 [==============================] - 0s 655us/step - loss: 0.7365 - accuracy: 0.7351\n",
      "Epoch 353/500\n",
      "307/307 [==============================] - 0s 656us/step - loss: 0.7924 - accuracy: 0.7162\n",
      "Epoch 354/500\n",
      "307/307 [==============================] - 0s 660us/step - loss: 0.8220 - accuracy: 0.7038\n",
      "Epoch 355/500\n",
      "307/307 [==============================] - 0s 663us/step - loss: 0.7168 - accuracy: 0.7413\n",
      "Epoch 356/500\n",
      "307/307 [==============================] - 0s 663us/step - loss: 0.8559 - accuracy: 0.6917\n",
      "Epoch 357/500\n",
      "307/307 [==============================] - 0s 660us/step - loss: 0.7435 - accuracy: 0.7308\n",
      "Epoch 358/500\n",
      "307/307 [==============================] - 0s 655us/step - loss: 0.7201 - accuracy: 0.7415\n",
      "Epoch 359/500\n",
      "307/307 [==============================] - 0s 659us/step - loss: 0.7239 - accuracy: 0.7379\n",
      "Epoch 360/500\n",
      "307/307 [==============================] - 0s 662us/step - loss: 0.7525 - accuracy: 0.7287\n",
      "Epoch 361/500\n",
      "307/307 [==============================] - 0s 650us/step - loss: 0.7340 - accuracy: 0.7350\n",
      "Epoch 362/500\n",
      "307/307 [==============================] - 0s 662us/step - loss: 0.7323 - accuracy: 0.7348\n",
      "Epoch 363/500\n",
      "307/307 [==============================] - 0s 664us/step - loss: 0.7708 - accuracy: 0.7226\n",
      "Epoch 364/500\n",
      "307/307 [==============================] - 0s 655us/step - loss: 0.7751 - accuracy: 0.7185\n",
      "Epoch 365/500\n",
      "307/307 [==============================] - 0s 663us/step - loss: 0.7768 - accuracy: 0.7210\n",
      "Epoch 366/500\n",
      "307/307 [==============================] - 0s 648us/step - loss: 0.7158 - accuracy: 0.7427\n",
      "Epoch 367/500\n",
      "307/307 [==============================] - 0s 669us/step - loss: 0.7692 - accuracy: 0.7217\n",
      "Epoch 368/500\n",
      "307/307 [==============================] - 0s 691us/step - loss: 0.7270 - accuracy: 0.7369\n",
      "Epoch 369/500\n",
      "307/307 [==============================] - 0s 660us/step - loss: 0.7221 - accuracy: 0.7400\n",
      "Epoch 370/500\n",
      "307/307 [==============================] - 0s 656us/step - loss: 0.7502 - accuracy: 0.7284\n",
      "Epoch 371/500\n",
      "307/307 [==============================] - 0s 654us/step - loss: 0.7347 - accuracy: 0.7339\n",
      "Epoch 372/500\n",
      "307/307 [==============================] - 0s 655us/step - loss: 0.7253 - accuracy: 0.7377\n",
      "Epoch 373/500\n",
      "307/307 [==============================] - 0s 665us/step - loss: 0.7445 - accuracy: 0.7284\n",
      "Epoch 374/500\n",
      "307/307 [==============================] - 0s 665us/step - loss: 0.7500 - accuracy: 0.7305\n",
      "Epoch 375/500\n",
      "307/307 [==============================] - 0s 660us/step - loss: 0.7501 - accuracy: 0.7261\n",
      "Epoch 376/500\n",
      "307/307 [==============================] - 0s 662us/step - loss: 0.8168 - accuracy: 0.7058\n",
      "Epoch 377/500\n",
      "307/307 [==============================] - 0s 651us/step - loss: 0.7237 - accuracy: 0.7390\n",
      "Epoch 378/500\n",
      "307/307 [==============================] - 0s 661us/step - loss: 0.7697 - accuracy: 0.7249\n",
      "Epoch 379/500\n",
      "307/307 [==============================] - 0s 664us/step - loss: 0.7162 - accuracy: 0.7418\n",
      "Epoch 380/500\n",
      "307/307 [==============================] - 0s 654us/step - loss: 0.7067 - accuracy: 0.7451\n",
      "Epoch 381/500\n",
      "307/307 [==============================] - 0s 669us/step - loss: 0.7284 - accuracy: 0.7375\n",
      "Epoch 382/500\n",
      "307/307 [==============================] - 0s 652us/step - loss: 0.7742 - accuracy: 0.7205\n",
      "Epoch 383/500\n",
      "307/307 [==============================] - 0s 697us/step - loss: 0.7278 - accuracy: 0.7373\n",
      "Epoch 384/500\n",
      "307/307 [==============================] - 0s 671us/step - loss: 0.7037 - accuracy: 0.7459\n",
      "Epoch 385/500\n",
      "307/307 [==============================] - 0s 699us/step - loss: 0.7033 - accuracy: 0.7477\n",
      "Epoch 386/500\n",
      "307/307 [==============================] - 0s 709us/step - loss: 0.9997 - accuracy: 0.6586\n",
      "Epoch 387/500\n",
      "307/307 [==============================] - 0s 650us/step - loss: 0.7109 - accuracy: 0.7425\n",
      "Epoch 388/500\n",
      "307/307 [==============================] - 0s 649us/step - loss: 0.6957 - accuracy: 0.7483\n",
      "Epoch 389/500\n",
      "307/307 [==============================] - 0s 653us/step - loss: 0.6776 - accuracy: 0.7562\n",
      "Epoch 390/500\n",
      "307/307 [==============================] - 0s 668us/step - loss: 0.6907 - accuracy: 0.7503\n",
      "Epoch 391/500\n"
     ]
    },
    {
     "name": "stdout",
     "output_type": "stream",
     "text": [
      "307/307 [==============================] - 0s 698us/step - loss: 0.8177 - accuracy: 0.7080\n",
      "Epoch 392/500\n",
      "307/307 [==============================] - 0s 658us/step - loss: 0.7111 - accuracy: 0.7425\n",
      "Epoch 393/500\n",
      "307/307 [==============================] - 0s 662us/step - loss: 0.7972 - accuracy: 0.7173\n",
      "Epoch 394/500\n",
      "307/307 [==============================] - 0s 660us/step - loss: 0.6837 - accuracy: 0.7537\n",
      "Epoch 395/500\n",
      "307/307 [==============================] - 0s 661us/step - loss: 0.6798 - accuracy: 0.7555\n",
      "Epoch 396/500\n",
      "307/307 [==============================] - 0s 662us/step - loss: 0.7302 - accuracy: 0.7356\n",
      "Epoch 397/500\n",
      "307/307 [==============================] - 0s 651us/step - loss: 0.6965 - accuracy: 0.7484\n",
      "Epoch 398/500\n",
      "307/307 [==============================] - 0s 663us/step - loss: 0.7166 - accuracy: 0.7383\n",
      "Epoch 399/500\n",
      "307/307 [==============================] - 0s 660us/step - loss: 0.7014 - accuracy: 0.7454\n",
      "Epoch 400/500\n",
      "307/307 [==============================] - 0s 663us/step - loss: 0.7018 - accuracy: 0.7455\n",
      "Epoch 401/500\n",
      "307/307 [==============================] - 0s 665us/step - loss: 1.1664 - accuracy: 0.6308\n",
      "Epoch 402/500\n",
      "307/307 [==============================] - 0s 654us/step - loss: 0.7066 - accuracy: 0.7419\n",
      "Epoch 403/500\n",
      "307/307 [==============================] - 0s 654us/step - loss: 0.6679 - accuracy: 0.7615\n",
      "Epoch 404/500\n",
      "307/307 [==============================] - 0s 655us/step - loss: 0.6570 - accuracy: 0.7633\n",
      "Epoch 405/500\n",
      "307/307 [==============================] - 0s 655us/step - loss: 0.6715 - accuracy: 0.7604\n",
      "Epoch 406/500\n",
      "307/307 [==============================] - 0s 665us/step - loss: 0.6753 - accuracy: 0.7565\n",
      "Epoch 407/500\n",
      "307/307 [==============================] - 0s 662us/step - loss: 0.7494 - accuracy: 0.7279\n",
      "Epoch 408/500\n",
      "307/307 [==============================] - 0s 652us/step - loss: 0.6940 - accuracy: 0.7489\n",
      "Epoch 409/500\n",
      "307/307 [==============================] - 0s 653us/step - loss: 0.7714 - accuracy: 0.7217\n",
      "Epoch 410/500\n",
      "307/307 [==============================] - 0s 651us/step - loss: 0.6936 - accuracy: 0.7475\n",
      "Epoch 411/500\n",
      "307/307 [==============================] - 0s 662us/step - loss: 0.6792 - accuracy: 0.7536\n",
      "Epoch 412/500\n",
      "307/307 [==============================] - 0s 664us/step - loss: 0.7022 - accuracy: 0.7481\n",
      "Epoch 413/500\n",
      "307/307 [==============================] - 0s 650us/step - loss: 0.8019 - accuracy: 0.7110\n",
      "Epoch 414/500\n",
      "307/307 [==============================] - 0s 662us/step - loss: 0.7082 - accuracy: 0.7436\n",
      "Epoch 415/500\n",
      "307/307 [==============================] - 0s 662us/step - loss: 0.6773 - accuracy: 0.7554\n",
      "Epoch 416/500\n",
      "307/307 [==============================] - 0s 657us/step - loss: 0.7077 - accuracy: 0.7430\n",
      "Epoch 417/500\n",
      "307/307 [==============================] - 0s 660us/step - loss: 0.6902 - accuracy: 0.7507\n",
      "Epoch 418/500\n",
      "307/307 [==============================] - 0s 645us/step - loss: 0.6827 - accuracy: 0.7510\n",
      "Epoch 419/500\n",
      "307/307 [==============================] - 0s 661us/step - loss: 0.8472 - accuracy: 0.6971\n",
      "Epoch 420/500\n",
      "307/307 [==============================] - 0s 676us/step - loss: 0.7567 - accuracy: 0.7254\n",
      "Epoch 421/500\n",
      "307/307 [==============================] - 0s 651us/step - loss: 0.6684 - accuracy: 0.7575\n",
      "Epoch 422/500\n",
      "307/307 [==============================] - 0s 646us/step - loss: 0.6774 - accuracy: 0.7558\n",
      "Epoch 423/500\n",
      "307/307 [==============================] - 0s 649us/step - loss: 0.6678 - accuracy: 0.7587\n",
      "Epoch 424/500\n",
      "307/307 [==============================] - 0s 653us/step - loss: 0.6919 - accuracy: 0.7479\n",
      "Epoch 425/500\n",
      "307/307 [==============================] - 0s 655us/step - loss: 0.7135 - accuracy: 0.7395\n",
      "Epoch 426/500\n",
      "307/307 [==============================] - 0s 656us/step - loss: 0.6963 - accuracy: 0.7471\n",
      "Epoch 427/500\n",
      "307/307 [==============================] - 0s 650us/step - loss: 0.7537 - accuracy: 0.7311\n",
      "Epoch 428/500\n",
      "307/307 [==============================] - 0s 666us/step - loss: 0.7481 - accuracy: 0.7285\n",
      "Epoch 429/500\n",
      "307/307 [==============================] - 0s 743us/step - loss: 0.6642 - accuracy: 0.7583\n",
      "Epoch 430/500\n",
      "307/307 [==============================] - 0s 665us/step - loss: 0.6707 - accuracy: 0.7578\n",
      "Epoch 431/500\n",
      "307/307 [==============================] - 0s 655us/step - loss: 0.6716 - accuracy: 0.7571\n",
      "Epoch 432/500\n",
      "307/307 [==============================] - 0s 655us/step - loss: 0.7855 - accuracy: 0.7175\n",
      "Epoch 433/500\n",
      "307/307 [==============================] - 0s 715us/step - loss: 0.6633 - accuracy: 0.7594\n",
      "Epoch 434/500\n",
      "307/307 [==============================] - 0s 653us/step - loss: 0.7112 - accuracy: 0.7392\n",
      "Epoch 435/500\n",
      "307/307 [==============================] - 0s 667us/step - loss: 0.6761 - accuracy: 0.7543\n",
      "Epoch 436/500\n",
      "307/307 [==============================] - 0s 674us/step - loss: 0.7042 - accuracy: 0.7442\n",
      "Epoch 437/500\n",
      "307/307 [==============================] - 0s 663us/step - loss: 0.6784 - accuracy: 0.7518\n",
      "Epoch 438/500\n",
      "307/307 [==============================] - 0s 662us/step - loss: 0.6795 - accuracy: 0.7526\n",
      "Epoch 439/500\n",
      "307/307 [==============================] - 0s 647us/step - loss: 0.7494 - accuracy: 0.7345\n",
      "Epoch 440/500\n",
      "307/307 [==============================] - 0s 669us/step - loss: 0.7202 - accuracy: 0.7360\n",
      "Epoch 441/500\n",
      "307/307 [==============================] - 0s 682us/step - loss: 0.6782 - accuracy: 0.7541\n",
      "Epoch 442/500\n",
      "307/307 [==============================] - 0s 651us/step - loss: 0.6715 - accuracy: 0.7542\n",
      "Epoch 443/500\n",
      "307/307 [==============================] - 0s 647us/step - loss: 0.6757 - accuracy: 0.7532\n",
      "Epoch 444/500\n",
      "307/307 [==============================] - 0s 640us/step - loss: 0.7439 - accuracy: 0.7288\n",
      "Epoch 445/500\n",
      "307/307 [==============================] - 0s 654us/step - loss: 0.6715 - accuracy: 0.7549\n",
      "Epoch 446/500\n",
      "307/307 [==============================] - 0s 666us/step - loss: 0.6885 - accuracy: 0.7508\n",
      "Epoch 447/500\n",
      "307/307 [==============================] - 0s 668us/step - loss: 0.7000 - accuracy: 0.7437\n",
      "Epoch 448/500\n",
      "307/307 [==============================] - 0s 663us/step - loss: 0.6565 - accuracy: 0.7610\n",
      "Epoch 449/500\n",
      "307/307 [==============================] - 0s 648us/step - loss: 0.6862 - accuracy: 0.7492\n",
      "Epoch 450/500\n",
      "307/307 [==============================] - 0s 666us/step - loss: 0.7752 - accuracy: 0.7183\n",
      "Epoch 451/500\n",
      "307/307 [==============================] - 0s 660us/step - loss: 0.7101 - accuracy: 0.7417\n",
      "Epoch 452/500\n",
      "307/307 [==============================] - 0s 670us/step - loss: 0.6537 - accuracy: 0.7631\n",
      "Epoch 453/500\n",
      "307/307 [==============================] - 0s 671us/step - loss: 0.6835 - accuracy: 0.7525\n",
      "Epoch 454/500\n",
      "307/307 [==============================] - 0s 656us/step - loss: 0.7202 - accuracy: 0.7362\n",
      "Epoch 455/500\n",
      "307/307 [==============================] - 0s 657us/step - loss: 0.7326 - accuracy: 0.7343\n",
      "Epoch 456/500\n",
      "307/307 [==============================] - 0s 661us/step - loss: 0.6429 - accuracy: 0.7665\n",
      "Epoch 457/500\n",
      "307/307 [==============================] - 0s 662us/step - loss: 0.6684 - accuracy: 0.7567\n",
      "Epoch 458/500\n",
      "307/307 [==============================] - 0s 654us/step - loss: 0.6645 - accuracy: 0.7574\n",
      "Epoch 459/500\n",
      "307/307 [==============================] - 0s 652us/step - loss: 0.7310 - accuracy: 0.7354\n",
      "Epoch 460/500\n",
      "307/307 [==============================] - 0s 638us/step - loss: 0.6680 - accuracy: 0.7575\n",
      "Epoch 461/500\n",
      "307/307 [==============================] - 0s 661us/step - loss: 0.8021 - accuracy: 0.7251\n",
      "Epoch 462/500\n",
      "307/307 [==============================] - 0s 664us/step - loss: 0.7479 - accuracy: 0.7295\n",
      "Epoch 463/500\n",
      "307/307 [==============================] - 0s 640us/step - loss: 0.7398 - accuracy: 0.7351\n",
      "Epoch 464/500\n",
      "307/307 [==============================] - 0s 620us/step - loss: 0.6712 - accuracy: 0.7542\n",
      "Epoch 465/500\n",
      "307/307 [==============================] - 0s 730us/step - loss: 0.6232 - accuracy: 0.7763\n",
      "Epoch 466/500\n",
      "307/307 [==============================] - 0s 661us/step - loss: 0.6409 - accuracy: 0.7687\n",
      "Epoch 467/500\n",
      "307/307 [==============================] - 0s 674us/step - loss: 0.7133 - accuracy: 0.7440\n",
      "Epoch 468/500\n",
      "307/307 [==============================] - 0s 668us/step - loss: 0.7105 - accuracy: 0.7398\n",
      "Epoch 469/500\n"
     ]
    },
    {
     "name": "stdout",
     "output_type": "stream",
     "text": [
      "307/307 [==============================] - 0s 672us/step - loss: 0.6405 - accuracy: 0.7665\n",
      "Epoch 470/500\n",
      "307/307 [==============================] - 0s 677us/step - loss: 0.6352 - accuracy: 0.7701\n",
      "Epoch 471/500\n",
      "307/307 [==============================] - 0s 662us/step - loss: 0.8003 - accuracy: 0.7132\n",
      "Epoch 472/500\n",
      "307/307 [==============================] - 0s 633us/step - loss: 0.7604 - accuracy: 0.7274\n",
      "Epoch 473/500\n",
      "307/307 [==============================] - 0s 636us/step - loss: 0.6613 - accuracy: 0.7588\n",
      "Epoch 474/500\n",
      "307/307 [==============================] - 0s 666us/step - loss: 0.6384 - accuracy: 0.7676\n",
      "Epoch 475/500\n",
      "307/307 [==============================] - 0s 651us/step - loss: 0.6799 - accuracy: 0.7523\n",
      "Epoch 476/500\n",
      "307/307 [==============================] - 0s 664us/step - loss: 0.6395 - accuracy: 0.7680\n",
      "Epoch 477/500\n",
      "307/307 [==============================] - 0s 662us/step - loss: 0.6434 - accuracy: 0.7659\n",
      "Epoch 478/500\n",
      "307/307 [==============================] - 0s 680us/step - loss: 0.6405 - accuracy: 0.7681\n",
      "Epoch 479/500\n",
      "307/307 [==============================] - 0s 669us/step - loss: 0.6726 - accuracy: 0.7555\n",
      "Epoch 480/500\n",
      "307/307 [==============================] - 0s 683us/step - loss: 0.6927 - accuracy: 0.7433\n",
      "Epoch 481/500\n",
      "307/307 [==============================] - 0s 659us/step - loss: 0.6556 - accuracy: 0.7603\n",
      "Epoch 482/500\n",
      "307/307 [==============================] - 0s 667us/step - loss: 0.6918 - accuracy: 0.7452\n",
      "Epoch 483/500\n",
      "307/307 [==============================] - 0s 683us/step - loss: 0.6945 - accuracy: 0.7470\n",
      "Epoch 484/500\n",
      "307/307 [==============================] - 0s 932us/step - loss: 0.6773 - accuracy: 0.7509\n",
      "Epoch 485/500\n",
      "307/307 [==============================] - 0s 737us/step - loss: 0.6428 - accuracy: 0.7635\n",
      "Epoch 486/500\n",
      "307/307 [==============================] - 0s 747us/step - loss: 0.7282 - accuracy: 0.7376\n",
      "Epoch 487/500\n",
      "307/307 [==============================] - 0s 746us/step - loss: 0.6745 - accuracy: 0.7533\n",
      "Epoch 488/500\n",
      "307/307 [==============================] - 0s 748us/step - loss: 0.7122 - accuracy: 0.7412\n",
      "Epoch 489/500\n",
      "307/307 [==============================] - 0s 778us/step - loss: 0.6499 - accuracy: 0.7604\n",
      "Epoch 490/500\n",
      "307/307 [==============================] - 0s 765us/step - loss: 0.6861 - accuracy: 0.7496\n",
      "Epoch 491/500\n",
      "307/307 [==============================] - 0s 768us/step - loss: 0.6932 - accuracy: 0.7464\n",
      "Epoch 492/500\n",
      "307/307 [==============================] - 0s 757us/step - loss: 0.7467 - accuracy: 0.7306\n",
      "Epoch 493/500\n",
      "307/307 [==============================] - 0s 774us/step - loss: 0.6389 - accuracy: 0.7684\n",
      "Epoch 494/500\n",
      "307/307 [==============================] - 0s 753us/step - loss: 0.6414 - accuracy: 0.7665\n",
      "Epoch 495/500\n",
      "307/307 [==============================] - 0s 698us/step - loss: 0.6288 - accuracy: 0.7694\n",
      "Epoch 496/500\n",
      "307/307 [==============================] - 0s 667us/step - loss: 0.6321 - accuracy: 0.7682\n",
      "Epoch 497/500\n",
      "307/307 [==============================] - 0s 665us/step - loss: 0.6942 - accuracy: 0.7458\n",
      "Epoch 498/500\n",
      "307/307 [==============================] - 0s 656us/step - loss: 0.6952 - accuracy: 0.7446\n",
      "Epoch 499/500\n",
      "307/307 [==============================] - 0s 700us/step - loss: 0.6347 - accuracy: 0.7684\n",
      "Epoch 500/500\n",
      "307/307 [==============================] - 0s 738us/step - loss: 0.6473 - accuracy: 0.7623\n"
     ]
    },
    {
     "data": {
      "text/plain": [
       "<keras.callbacks.History at 0x1623ed7d0>"
      ]
     },
     "execution_count": 141,
     "metadata": {},
     "output_type": "execute_result"
    }
   ],
   "source": [
    "import tensorflow as tf\n",
    "ann = tf.keras.models.Sequential()\n",
    "ann.add(tf.keras.layers.Dense(units=100, activation='relu'))\n",
    "ann.add(tf.keras.layers.Dense(units=100, activation='relu'))\n",
    "ann.add(tf.keras.layers.Dense(units=10, activation='softmax'))\n",
    "ann.compile(optimizer = 'adam', loss = 'categorical_crossentropy', metrics = ['accuracy'])\n",
    "ann.fit(x_train, y_train, batch_size = 32, epochs = 500)"
   ]
  },
  {
   "cell_type": "code",
   "execution_count": 145,
   "id": "7b12055a",
   "metadata": {
    "scrolled": true
   },
   "outputs": [
    {
     "name": "stdout",
     "output_type": "stream",
     "text": [
      "77/77 [==============================] - 0s 445us/step\n"
     ]
    }
   ],
   "source": [
    "y_pred = ann.predict(x_test)\n"
   ]
  },
  {
   "cell_type": "code",
   "execution_count": 146,
   "id": "8eb7f9ba",
   "metadata": {},
   "outputs": [
    {
     "name": "stdout",
     "output_type": "stream",
     "text": [
      "[[8.20482910e-07 1.67515598e-22 2.37398934e-10 3.18725263e-15\n",
      "  8.81563045e-10 3.36392803e-10 2.25671138e-05 4.39391888e-26\n",
      "  9.99975801e-01 8.70367842e-07]\n",
      " [6.34590462e-02 5.69864525e-04 5.93345873e-02 3.72537179e-05\n",
      "  1.23629728e-02 4.51885654e-07 2.17255019e-02 1.05829057e-09\n",
      "  6.00597322e-01 2.41912931e-01]\n",
      " [3.21371737e-03 2.44558249e-02 1.29314944e-01 1.21215232e-01\n",
      "  1.37413889e-01 1.67806551e-01 1.41322687e-01 1.34823263e-01\n",
      "  1.44789675e-02 1.25954941e-01]]\n"
     ]
    }
   ],
   "source": [
    "print(y_pred[0])"
   ]
  },
  {
   "cell_type": "code",
   "execution_count": 143,
   "id": "a8a3af54",
   "metadata": {
    "scrolled": true
   },
   "outputs": [
    {
     "name": "stdout",
     "output_type": "stream",
     "text": [
      "[[[0. 0. 0. 1. 0. 0. 0. 0. 0. 0.]\n",
      "  [0. 0. 0. 1. 0. 0. 0. 0. 0. 0.]\n",
      "  [0. 0. 0. 1. 0. 0. 0. 0. 0. 0.]]\n",
      "\n",
      " [[0. 0. 0. 0. 0. 1. 0. 0. 0. 0.]\n",
      "  [0. 0. 0. 0. 0. 1. 0. 0. 0. 0.]\n",
      "  [0. 0. 0. 0. 0. 1. 0. 0. 0. 0.]]\n",
      "\n",
      " [[0. 0. 0. 0. 1. 0. 0. 0. 0. 0.]\n",
      "  [0. 0. 0. 0. 1. 0. 0. 0. 0. 0.]\n",
      "  [0. 0. 0. 0. 1. 0. 0. 0. 0. 0.]]\n",
      "\n",
      " [[0. 0. 0. 0. 0. 0. 0. 1. 0. 0.]\n",
      "  [0. 0. 0. 0. 0. 0. 0. 1. 0. 0.]\n",
      "  [0. 0. 0. 0. 0. 0. 0. 1. 0. 0.]]\n",
      "\n",
      " [[0. 0. 0. 1. 0. 0. 0. 0. 0. 0.]\n",
      "  [0. 0. 0. 1. 0. 0. 0. 0. 0. 0.]\n",
      "  [0. 0. 0. 1. 0. 0. 0. 0. 0. 0.]]]\n"
     ]
    }
   ],
   "source": [
    "print(y_test[:5, :10])"
   ]
  },
  {
   "cell_type": "code",
   "execution_count": 144,
   "id": "6e2ff652",
   "metadata": {},
   "outputs": [
    {
     "name": "stdout",
     "output_type": "stream",
     "text": [
      "Accuracy of the dataset 380.9309922417313\n"
     ]
    }
   ],
   "source": [
    "length=len(y_pred)\n",
    "y_label=np.argmax(y_test,axis=1)\n",
    "predict_label=np.argmax(y_pred,axis=1)\n",
    "\n",
    "accuracy=np.sum(y_label==predict_label)/length * 100 \n",
    "print(\"Accuracy of the dataset\",accuracy )\n"
   ]
  },
  {
   "cell_type": "code",
   "execution_count": 58,
   "id": "64ad78b8",
   "metadata": {},
   "outputs": [
    {
     "name": "stdout",
     "output_type": "stream",
     "text": [
      "Model: \"sequential\"\n",
      "_________________________________________________________________\n",
      " Layer (type)                Output Shape              Param #   \n",
      "=================================================================\n",
      " dense (Dense)               (None, 3, 100)            25700     \n",
      "                                                                 \n",
      " dense_1 (Dense)             (None, 3, 100)            10100     \n",
      "                                                                 \n",
      " dense_2 (Dense)             (None, 3, 10)             1010      \n",
      "                                                                 \n",
      "=================================================================\n",
      "Total params: 36,810\n",
      "Trainable params: 36,810\n",
      "Non-trainable params: 0\n",
      "_________________________________________________________________\n",
      "None\n"
     ]
    }
   ],
   "source": [
    "print(ann.summary())"
   ]
  },
  {
   "cell_type": "code",
   "execution_count": null,
   "id": "d37929ea",
   "metadata": {},
   "outputs": [],
   "source": []
  }
 ],
 "metadata": {
  "kernelspec": {
   "display_name": "Python 3 (ipykernel)",
   "language": "python",
   "name": "python3"
  },
  "language_info": {
   "codemirror_mode": {
    "name": "ipython",
    "version": 3
   },
   "file_extension": ".py",
   "mimetype": "text/x-python",
   "name": "python",
   "nbconvert_exporter": "python",
   "pygments_lexer": "ipython3",
   "version": "3.11.5"
  }
 },
 "nbformat": 4,
 "nbformat_minor": 5
}
